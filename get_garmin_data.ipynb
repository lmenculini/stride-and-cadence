{
 "cells": [
  {
   "cell_type": "code",
   "execution_count": 1,
   "id": "a4ddbf5f",
   "metadata": {},
   "outputs": [],
   "source": [
    "import garminconnect as gc\n",
    "import datetime\n",
    "import json"
   ]
  },
  {
   "cell_type": "code",
   "execution_count": 2,
   "id": "715b1383-8cc3-4c56-84a6-cdc4eb2568e6",
   "metadata": {},
   "outputs": [],
   "source": [
    "import matplotlib.pyplot as plt\n",
    "import numpy as np\n",
    "import pandas as pd"
   ]
  },
  {
   "cell_type": "code",
   "execution_count": 3,
   "id": "9f47ce1f",
   "metadata": {},
   "outputs": [],
   "source": [
    "today = datetime.date.today()\n",
    "startdate = today - datetime.timedelta(days=7) # Select past week\n",
    "activitytype=\"running\""
   ]
  },
  {
   "cell_type": "code",
   "execution_count": 4,
   "id": "c56badcb",
   "metadata": {},
   "outputs": [],
   "source": [
    "def display_json(api_call, output):\n",
    "    \"\"\"Format API output for better readability.\"\"\"\n",
    "\n",
    "    dashed = \"-\"*20\n",
    "    header = f\"{dashed} {api_call} {dashed}\"\n",
    "    footer = \"-\"*len(header)\n",
    "\n",
    "    print(header)\n",
    "    print(json.dumps(output, indent=4))\n",
    "    print(footer)"
   ]
  },
  {
   "cell_type": "code",
   "execution_count": 5,
   "id": "f7b1028b",
   "metadata": {},
   "outputs": [],
   "source": [
    "def display_text(output):\n",
    "    \"\"\"Format API output for better readability.\"\"\"\n",
    "\n",
    "    dashed = \"-\"*60\n",
    "    header = f\"{dashed}\"\n",
    "    footer = \"-\"*len(header)\n",
    "\n",
    "    print(header)\n",
    "    print(json.dumps(output, indent=4))\n",
    "    print(footer)"
   ]
  },
  {
   "cell_type": "code",
   "execution_count": 56,
   "id": "c9bb8795",
   "metadata": {},
   "outputs": [],
   "source": [
    "def init_api(email, password):\n",
    "    \"\"\"Initialize Garmin API with your credentials.\"\"\"\n",
    "\n",
    "    try:\n",
    "        # Ask for credentials if not set as environment variables\n",
    "        if not email or not password:\n",
    "            email, password = get_credentials()\n",
    "\n",
    "        api = gc.Garmin(email, password)\n",
    "        api.login()\n",
    "\n",
    "        # Save session dictionary to json file for future use\n",
    "        with open(\"session.json\", \"w\", encoding=\"utf-8\") as f:\n",
    "            json.dump(api.session_data, f, ensure_ascii=False, indent=4)\n",
    "    except (\n",
    "        gc.GarminConnectConnectionError,\n",
    "        gc.GarminConnectAuthenticationError,\n",
    "        gc.GarminConnectTooManyRequestsError,\n",
    "        requests.exceptions.HTTPError,\n",
    "    ) as err:\n",
    "        logger.error(\"Error occurred during Garmin Connect communication: %s\", err)\n",
    "        return None\n",
    "\n",
    "    return api"
   ]
  },
  {
   "cell_type": "code",
   "execution_count": 57,
   "id": "0fca6d1a",
   "metadata": {},
   "outputs": [],
   "source": [
    "api = init_api(\"look.at.the.stars.lm90@gmail.com\",\"SspscuiNoi12\")"
   ]
  },
  {
   "cell_type": "code",
   "execution_count": 58,
   "id": "8d062b1b",
   "metadata": {},
   "outputs": [],
   "source": [
    "date=datetime.date(2022,9,1)"
   ]
  },
  {
   "cell_type": "code",
   "execution_count": 59,
   "id": "0f8a5bd5",
   "metadata": {},
   "outputs": [],
   "source": [
    "#display_json(f\"api.get_stats('{date.isoformat()}')\", api.get_stats(date.isoformat()))"
   ]
  },
  {
   "cell_type": "code",
   "execution_count": 60,
   "id": "5764504d",
   "metadata": {},
   "outputs": [],
   "source": [
    "activities = api.get_activities_by_date(\n",
    "                   date.isoformat(), today.isoformat(), \"running\"\n",
    "                )"
   ]
  },
  {
   "cell_type": "code",
   "execution_count": 16,
   "id": "98bacdd4-5e8e-4cef-99f2-e6e7405da345",
   "metadata": {},
   "outputs": [
    {
     "data": {
      "text/plain": [
       "66"
      ]
     },
     "execution_count": 16,
     "metadata": {},
     "output_type": "execute_result"
    }
   ],
   "source": [
    "len(activities)"
   ]
  },
  {
   "cell_type": "code",
   "execution_count": 12,
   "id": "95714c56-588d-40c7-a6d6-07f642798146",
   "metadata": {
    "collapsed": true,
    "jupyter": {
     "outputs_hidden": true
    },
    "tags": []
   },
   "outputs": [
    {
     "data": {
      "text/plain": [
       "{'activityId': 9995711783,\n",
       " 'activityName': 'Perugia Corsa',\n",
       " 'description': None,\n",
       " 'startTimeLocal': '2022-11-18 07:54:05',\n",
       " 'startTimeGMT': '2022-11-18 06:54:05',\n",
       " 'activityType': {'typeId': 1,\n",
       "  'typeKey': 'running',\n",
       "  'parentTypeId': 17,\n",
       "  'isHidden': False,\n",
       "  'sortOrder': None,\n",
       "  'restricted': False,\n",
       "  'trimmable': True},\n",
       " 'eventType': {'typeId': 9, 'typeKey': 'uncategorized', 'sortOrder': 10},\n",
       " 'comments': None,\n",
       " 'parentId': None,\n",
       " 'distance': 10473.2900390625,\n",
       " 'duration': 3005.787109375,\n",
       " 'elapsedDuration': 3005.787109375,\n",
       " 'movingDuration': 3005.787109375,\n",
       " 'elevationGain': 47.64999997615814,\n",
       " 'elevationLoss': 51.28000000119209,\n",
       " 'averageSpeed': 3.4839999675750732,\n",
       " 'maxSpeed': 3.9660000801086426,\n",
       " 'startLatitude': 43.11016439460218,\n",
       " 'startLongitude': 12.355353590101004,\n",
       " 'hasPolyline': True,\n",
       " 'ownerId': 12663743,\n",
       " 'ownerDisplayName': 'lorenzo.menculini',\n",
       " 'ownerFullName': 'Lorenzo Menculini',\n",
       " 'ownerProfileImageUrlSmall': 'https://s3.amazonaws.com/garmin-connect-prod/profile_images/9fbcf080-fe63-4d60-bed2-aed42814ce81-12663743.jpg',\n",
       " 'ownerProfileImageUrlMedium': 'https://s3.amazonaws.com/garmin-connect-prod/profile_images/7b1c8717-cb50-4e8a-9dbd-45f987805db3-12663743.jpg',\n",
       " 'ownerProfileImageUrlLarge': 'https://s3.amazonaws.com/garmin-connect-prod/profile_images/af7761d3-6dbf-4851-bedd-7eabeff5db38-12663743.jpg',\n",
       " 'calories': 727.0,\n",
       " 'averageHR': 149.0,\n",
       " 'maxHR': 161.0,\n",
       " 'averageRunningCadenceInStepsPerMinute': 172.359375,\n",
       " 'maxRunningCadenceInStepsPerMinute': 187.0,\n",
       " 'averageBikingCadenceInRevPerMinute': None,\n",
       " 'maxBikingCadenceInRevPerMinute': None,\n",
       " 'averageSwimCadenceInStrokesPerMinute': None,\n",
       " 'maxSwimCadenceInStrokesPerMinute': None,\n",
       " 'averageSwolf': None,\n",
       " 'activeLengths': None,\n",
       " 'steps': 8630,\n",
       " 'conversationUuid': None,\n",
       " 'conversationPk': None,\n",
       " 'numberOfActivityLikes': None,\n",
       " 'numberOfActivityComments': None,\n",
       " 'likedByUser': None,\n",
       " 'commentedByUser': None,\n",
       " 'activityLikeDisplayNames': None,\n",
       " 'activityLikeFullNames': None,\n",
       " 'activityLikeProfileImageUrls': None,\n",
       " 'requestorRelationship': None,\n",
       " 'userRoles': ['ROLE_OUTDOOR_USER',\n",
       "  'ROLE_CONNECTUSER',\n",
       "  'ROLE_FITNESS_USER',\n",
       "  'ROLE_WELLNESS_USER',\n",
       "  'ROLE_CONNECT_2_USER'],\n",
       " 'privacy': {'typeId': 4, 'typeKey': 'groups'},\n",
       " 'userPro': False,\n",
       " 'courseId': None,\n",
       " 'poolLength': None,\n",
       " 'unitOfPoolLength': None,\n",
       " 'hasVideo': False,\n",
       " 'videoUrl': None,\n",
       " 'timeZoneId': 124,\n",
       " 'beginTimestamp': 1668754445000,\n",
       " 'sportTypeId': 1,\n",
       " 'avgPower': None,\n",
       " 'maxPower': None,\n",
       " 'aerobicTrainingEffect': 3.0999999046325684,\n",
       " 'anaerobicTrainingEffect': 0.0,\n",
       " 'strokes': None,\n",
       " 'normPower': None,\n",
       " 'leftBalance': None,\n",
       " 'rightBalance': None,\n",
       " 'avgLeftBalance': None,\n",
       " 'max20MinPower': None,\n",
       " 'avgVerticalOscillation': 11.180000305175781,\n",
       " 'avgGroundContactTime': 246.1999969482422,\n",
       " 'avgStrideLength': 120.43000488281251,\n",
       " 'avgFractionalCadence': None,\n",
       " 'maxFractionalCadence': None,\n",
       " 'trainingStressScore': None,\n",
       " 'intensityFactor': None,\n",
       " 'vO2MaxValue': 61.0,\n",
       " 'avgVerticalRatio': 9.050000190734863,\n",
       " 'avgGroundContactBalance': 49.790000915527344,\n",
       " 'lactateThresholdBpm': None,\n",
       " 'lactateThresholdSpeed': None,\n",
       " 'maxFtp': None,\n",
       " 'avgStrokeDistance': None,\n",
       " 'avgStrokeCadence': None,\n",
       " 'maxStrokeCadence': None,\n",
       " 'workoutId': None,\n",
       " 'avgStrokes': None,\n",
       " 'minStrokes': None,\n",
       " 'deviceId': 3382948883,\n",
       " 'minTemperature': 18.0,\n",
       " 'maxTemperature': None,\n",
       " 'minElevation': 265.20001220703125,\n",
       " 'maxElevation': 291.0,\n",
       " 'avgDoubleCadence': None,\n",
       " 'maxDoubleCadence': 187.0,\n",
       " 'summarizedExerciseSets': None,\n",
       " 'maxDepth': None,\n",
       " 'avgDepth': None,\n",
       " 'surfaceInterval': None,\n",
       " 'startN2': None,\n",
       " 'endN2': None,\n",
       " 'startCns': None,\n",
       " 'endCns': None,\n",
       " 'summarizedDiveInfo': {'weight': None,\n",
       "  'weightUnit': None,\n",
       "  'visibility': None,\n",
       "  'visibilityUnit': None,\n",
       "  'surfaceCondition': None,\n",
       "  'current': None,\n",
       "  'waterType': None,\n",
       "  'waterDensity': None,\n",
       "  'summarizedDiveGases': [],\n",
       "  'totalSurfaceTime': None},\n",
       " 'activityLikeAuthors': None,\n",
       " 'avgVerticalSpeed': None,\n",
       " 'maxVerticalSpeed': 0.40002441406250006,\n",
       " 'floorsClimbed': None,\n",
       " 'floorsDescended': None,\n",
       " 'manufacturer': 'GARMIN',\n",
       " 'diveNumber': None,\n",
       " 'locationName': 'Perugia',\n",
       " 'bottomTime': None,\n",
       " 'lapCount': 1,\n",
       " 'endLatitude': 43.10993431136012,\n",
       " 'endLongitude': 12.355473032221198,\n",
       " 'minAirSpeed': None,\n",
       " 'maxAirSpeed': None,\n",
       " 'avgAirSpeed': None,\n",
       " 'avgWindYawAngle': None,\n",
       " 'minCda': None,\n",
       " 'maxCda': None,\n",
       " 'avgCda': None,\n",
       " 'avgWattsPerCda': None,\n",
       " 'flow': None,\n",
       " 'grit': None,\n",
       " 'jumpCount': None,\n",
       " 'caloriesEstimated': None,\n",
       " 'caloriesConsumed': None,\n",
       " 'waterEstimated': 513.0,\n",
       " 'waterConsumed': None,\n",
       " 'maxAvgPower_1': None,\n",
       " 'maxAvgPower_2': None,\n",
       " 'maxAvgPower_5': None,\n",
       " 'maxAvgPower_10': None,\n",
       " 'maxAvgPower_20': None,\n",
       " 'maxAvgPower_30': None,\n",
       " 'maxAvgPower_60': None,\n",
       " 'maxAvgPower_120': None,\n",
       " 'maxAvgPower_300': None,\n",
       " 'maxAvgPower_600': None,\n",
       " 'maxAvgPower_1200': None,\n",
       " 'maxAvgPower_1800': None,\n",
       " 'maxAvgPower_3600': None,\n",
       " 'maxAvgPower_7200': None,\n",
       " 'maxAvgPower_18000': None,\n",
       " 'excludeFromPowerCurveReports': None,\n",
       " 'totalSets': None,\n",
       " 'activeSets': None,\n",
       " 'totalReps': None,\n",
       " 'minRespirationRate': None,\n",
       " 'maxRespirationRate': None,\n",
       " 'avgRespirationRate': None,\n",
       " 'trainingEffectLabel': 'AEROBIC_BASE',\n",
       " 'activityTrainingLoad': 89.98687744140625,\n",
       " 'avgFlow': None,\n",
       " 'avgGrit': None,\n",
       " 'minActivityLapDuration': 3005.787109375,\n",
       " 'avgStress': None,\n",
       " 'startStress': None,\n",
       " 'endStress': None,\n",
       " 'differenceStress': None,\n",
       " 'maxStress': None,\n",
       " 'aerobicTrainingEffectMessage': 'IMPROVING_AEROBIC_BASE_8',\n",
       " 'anaerobicTrainingEffectMessage': 'NO_ANAEROBIC_BENEFIT_0',\n",
       " 'splitSummaries': [{'noOfSplits': 1,\n",
       "   'maxGradeValue': None,\n",
       "   'totalAscent': 47.64999997615814,\n",
       "   'duration': 3005.7080078125,\n",
       "   'splitType': 'RWD_RUN',\n",
       "   'numClimbSends': 0,\n",
       "   'maxElevationGain': 47.64999997615814,\n",
       "   'averageElevationGain': 47.64999997615814,\n",
       "   'maxDistance': 10473,\n",
       "   'distance': 10473.2900390625,\n",
       "   'averageSpeed': 3.4839999675750732,\n",
       "   'maxSpeed': 3.9660000801086426,\n",
       "   'mode': None,\n",
       "   'numFalls': 0}],\n",
       " 'hasSplits': True,\n",
       " 'moderateIntensityMinutes': 1,\n",
       " 'vigorousIntensityMinutes': 48,\n",
       " 'maxBottomTime': None,\n",
       " 'hasSeedFirstbeatProfile': None,\n",
       " 'calendarEventId': None,\n",
       " 'calendarEventUuid': None,\n",
       " 'avgGradeAdjustedSpeed': None,\n",
       " 'avgWheelchairCadence': None,\n",
       " 'maxWheelchairCadence': None,\n",
       " 'purposeful': False,\n",
       " 'pr': False,\n",
       " 'manualActivity': False,\n",
       " 'autoCalcCalories': False,\n",
       " 'elevationCorrected': False,\n",
       " 'atpActivity': False,\n",
       " 'favorite': False,\n",
       " 'decoDive': False,\n",
       " 'parent': False}"
      ]
     },
     "execution_count": 12,
     "metadata": {},
     "output_type": "execute_result"
    }
   ],
   "source": [
    "activities[7]"
   ]
  },
  {
   "cell_type": "code",
   "execution_count": 13,
   "id": "7189b465-0083-47cb-866f-d98658fe4dad",
   "metadata": {
    "tags": []
   },
   "outputs": [],
   "source": [
    "#api.get_activity_splits(activities[2]['activityId'])"
   ]
  },
  {
   "cell_type": "code",
   "execution_count": 31,
   "id": "8d2c621c-edfc-4c64-8e31-64991d54435d",
   "metadata": {},
   "outputs": [
    {
     "data": {
      "text/plain": [
       "{'activityId': 10033828036,\n",
       " 'lapDTOs': [{'startTimeGMT': '2022-11-25T10:10:19.0',\n",
       "   'startLatitude': 43.10412548482418,\n",
       "   'startLongitude': 12.386793019250035,\n",
       "   'distance': 4430.0,\n",
       "   'duration': 1208.45,\n",
       "   'movingDuration': 1208.0,\n",
       "   'elapsedDuration': 1208.45,\n",
       "   'elevationGain': 0.0,\n",
       "   'elevationLoss': 0.0,\n",
       "   'maxElevation': 433.0,\n",
       "   'minElevation': 433.0,\n",
       "   'averageSpeed': 3.6649999618530273,\n",
       "   'averageMovingSpeed': 3.6672185430463577,\n",
       "   'maxSpeed': 3.9749999046325684,\n",
       "   'calories': 306.0,\n",
       "   'bmrCalories': 29.0,\n",
       "   'averageHR': 149.0,\n",
       "   'maxHR': 157.0,\n",
       "   'averageRunCadence': 172.484375,\n",
       "   'maxRunCadence': 178.0,\n",
       "   'averageTemperature': 24.0,\n",
       "   'maxTemperature': 28.0,\n",
       "   'minTemperature': 23.0,\n",
       "   'strideLength': 127.51948459968109,\n",
       "   'endLatitude': 43.10385902412236,\n",
       "   'endLongitude': 12.386690257117152,\n",
       "   'maxVerticalSpeed': 0.0,\n",
       "   'lapIndex': 1,\n",
       "   'lengthDTOs': [],\n",
       "   'connectIQMeasurement': [],\n",
       "   'messageIndex': 0}],\n",
       " 'eventDTOs': [{'startTimeGMT': '2022-11-25T10:10:18.0',\n",
       "   'startTimeGMTDoubleValue': 1669371018000.0,\n",
       "   'sectionTypeDTO': {'id': 4,\n",
       "    'key': 'timerTrigger',\n",
       "    'sectionTypeKey': 'TIMER_TRIGGER'}},\n",
       "  {'startTimeGMT': '2022-11-25T10:10:19.0',\n",
       "   'startTimeGMTDoubleValue': 1669371019000.0,\n",
       "   'sectionTypeDTO': {'id': 4,\n",
       "    'key': 'timerTrigger',\n",
       "    'sectionTypeKey': 'TIMER_TRIGGER'}}]}"
      ]
     },
     "execution_count": 31,
     "metadata": {},
     "output_type": "execute_result"
    }
   ],
   "source": [
    "api.get_activity_splits(activities[0][\"activityId\"])"
   ]
  },
  {
   "cell_type": "code",
   "execution_count": 61,
   "id": "48c364d9",
   "metadata": {
    "tags": []
   },
   "outputs": [],
   "source": [
    "data=[]\n",
    "for activity in activities:\n",
    "    activity_id = activity[\"activityId\"]\n",
    "    # display_text(activity)\n",
    "    # print(\"\\n\")\n",
    "    laps=api.get_activity_splits(activity_id)['lapDTOs']\n",
    "    data.extend([\n",
    "        {\"activity_type\" : activity['activityType']['typeKey'],\n",
    "         \"activity_start\": activity['startTimeGMT'],\n",
    "         \"activity_distance\": activity['distance'],\n",
    "         \"lap_start\": l['startTimeGMT'], \n",
    "         \"lap_distance\": l['distance'],\n",
    "         \"lap_duration\": l['duration'],\n",
    "         \"elev_gain\": l['elevationGain'],\n",
    "         \"elev_loss\": l['elevationLoss'],\n",
    "         \"speed\": l['averageSpeed'],\n",
    "         \"stride_length\": l['strideLength']/100} for l in laps])"
   ]
  },
  {
   "cell_type": "code",
   "execution_count": 82,
   "id": "3d32b5df-f602-4a1b-901a-4f09bfc2fe91",
   "metadata": {},
   "outputs": [],
   "source": [
    "lap_df=pd.DataFrame(data)#,dtype={'activity_start':'datetime64[ns]','lap_start':'datetime64[ns]'})"
   ]
  },
  {
   "cell_type": "code",
   "execution_count": 83,
   "id": "dd9d73d6-dc68-4a56-bf66-9eef8ba23d01",
   "metadata": {},
   "outputs": [],
   "source": [
    "lap_df=lap_df.astype({'activity_start':'datetime64[ns]','lap_start':'datetime64[ns]'})\n",
    "#lap_df.dtypes\n",
    "lap_df['activity_start']=lap_df.activity_start.dt.tz_localize('GMT')\n",
    "lap_df['lap_start']=lap_df.lap_start.dt.tz_localize('GMT')"
   ]
  },
  {
   "cell_type": "code",
   "execution_count": 84,
   "id": "4f455456-5ad1-4824-a741-6796f15afe67",
   "metadata": {},
   "outputs": [],
   "source": [
    "import math"
   ]
  },
  {
   "cell_type": "code",
   "execution_count": 97,
   "id": "833c4882-0fb8-41da-81c9-670bc38dea0c",
   "metadata": {},
   "outputs": [],
   "source": [
    "lap_df['pace']=lap_df.apply(lambda x: '{}\\'{:.0f}\"'.format(math.floor((x.lap_duration/x.lap_distance*1000)//60),(x.lap_duration/x.lap_distance*1000)%60), axis=1)"
   ]
  },
  {
   "cell_type": "code",
   "execution_count": 98,
   "id": "a1f2033f-8b12-4c21-88c2-2db86707048d",
   "metadata": {},
   "outputs": [
    {
     "data": {
      "text/html": [
       "<div>\n",
       "<style scoped>\n",
       "    .dataframe tbody tr th:only-of-type {\n",
       "        vertical-align: middle;\n",
       "    }\n",
       "\n",
       "    .dataframe tbody tr th {\n",
       "        vertical-align: top;\n",
       "    }\n",
       "\n",
       "    .dataframe thead th {\n",
       "        text-align: right;\n",
       "    }\n",
       "</style>\n",
       "<table border=\"1\" class=\"dataframe\">\n",
       "  <thead>\n",
       "    <tr style=\"text-align: right;\">\n",
       "      <th></th>\n",
       "      <th>activity_type</th>\n",
       "      <th>activity_start</th>\n",
       "      <th>activity_distance</th>\n",
       "      <th>lap_start</th>\n",
       "      <th>lap_distance</th>\n",
       "      <th>lap_duration</th>\n",
       "      <th>elev_gain</th>\n",
       "      <th>elev_loss</th>\n",
       "      <th>speed</th>\n",
       "      <th>stride_length</th>\n",
       "      <th>pace</th>\n",
       "    </tr>\n",
       "  </thead>\n",
       "  <tbody>\n",
       "    <tr>\n",
       "      <th>0</th>\n",
       "      <td>track_running</td>\n",
       "      <td>2022-11-25 10:10:19+00:00</td>\n",
       "      <td>4430.000000</td>\n",
       "      <td>2022-11-25 10:10:19+00:00</td>\n",
       "      <td>4430.00</td>\n",
       "      <td>1208.450</td>\n",
       "      <td>0.00</td>\n",
       "      <td>0.00</td>\n",
       "      <td>3.665</td>\n",
       "      <td>1.275195</td>\n",
       "      <td>4'33\"</td>\n",
       "    </tr>\n",
       "    <tr>\n",
       "      <th>1</th>\n",
       "      <td>track_running</td>\n",
       "      <td>2022-11-25 09:47:13+00:00</td>\n",
       "      <td>4550.000000</td>\n",
       "      <td>2022-11-25 09:47:13+00:00</td>\n",
       "      <td>100.00</td>\n",
       "      <td>19.738</td>\n",
       "      <td>24.38</td>\n",
       "      <td>0.00</td>\n",
       "      <td>4.925</td>\n",
       "      <td>1.917868</td>\n",
       "      <td>3'17\"</td>\n",
       "    </tr>\n",
       "    <tr>\n",
       "      <th>2</th>\n",
       "      <td>track_running</td>\n",
       "      <td>2022-11-25 09:47:13+00:00</td>\n",
       "      <td>4550.000000</td>\n",
       "      <td>2022-11-25 09:47:33+00:00</td>\n",
       "      <td>180.00</td>\n",
       "      <td>60.466</td>\n",
       "      <td>0.00</td>\n",
       "      <td>0.00</td>\n",
       "      <td>3.025</td>\n",
       "      <td>1.068238</td>\n",
       "      <td>5'36\"</td>\n",
       "    </tr>\n",
       "    <tr>\n",
       "      <th>3</th>\n",
       "      <td>track_running</td>\n",
       "      <td>2022-11-25 09:47:13+00:00</td>\n",
       "      <td>4550.000000</td>\n",
       "      <td>2022-11-25 09:48:33+00:00</td>\n",
       "      <td>110.00</td>\n",
       "      <td>22.386</td>\n",
       "      <td>0.00</td>\n",
       "      <td>0.00</td>\n",
       "      <td>4.890</td>\n",
       "      <td>1.630427</td>\n",
       "      <td>3'24\"</td>\n",
       "    </tr>\n",
       "    <tr>\n",
       "      <th>4</th>\n",
       "      <td>track_running</td>\n",
       "      <td>2022-11-25 09:47:13+00:00</td>\n",
       "      <td>4550.000000</td>\n",
       "      <td>2022-11-25 09:48:56+00:00</td>\n",
       "      <td>160.00</td>\n",
       "      <td>54.071</td>\n",
       "      <td>0.00</td>\n",
       "      <td>0.00</td>\n",
       "      <td>3.006</td>\n",
       "      <td>1.062047</td>\n",
       "      <td>5'38\"</td>\n",
       "    </tr>\n",
       "    <tr>\n",
       "      <th>...</th>\n",
       "      <td>...</td>\n",
       "      <td>...</td>\n",
       "      <td>...</td>\n",
       "      <td>...</td>\n",
       "      <td>...</td>\n",
       "      <td>...</td>\n",
       "      <td>...</td>\n",
       "      <td>...</td>\n",
       "      <td>...</td>\n",
       "      <td>...</td>\n",
       "      <td>...</td>\n",
       "    </tr>\n",
       "    <tr>\n",
       "      <th>191</th>\n",
       "      <td>running</td>\n",
       "      <td>2022-09-02 16:29:52+00:00</td>\n",
       "      <td>11601.040039</td>\n",
       "      <td>2022-09-02 17:06:00+00:00</td>\n",
       "      <td>447.44</td>\n",
       "      <td>125.044</td>\n",
       "      <td>0.00</td>\n",
       "      <td>4.28</td>\n",
       "      <td>3.578</td>\n",
       "      <td>1.254100</td>\n",
       "      <td>4'39\"</td>\n",
       "    </tr>\n",
       "    <tr>\n",
       "      <th>192</th>\n",
       "      <td>running</td>\n",
       "      <td>2022-09-02 16:29:52+00:00</td>\n",
       "      <td>11601.040039</td>\n",
       "      <td>2022-09-02 17:08:05+00:00</td>\n",
       "      <td>1004.99</td>\n",
       "      <td>230.937</td>\n",
       "      <td>7.00</td>\n",
       "      <td>4.57</td>\n",
       "      <td>4.352</td>\n",
       "      <td>1.435300</td>\n",
       "      <td>3'50\"</td>\n",
       "    </tr>\n",
       "    <tr>\n",
       "      <th>193</th>\n",
       "      <td>running</td>\n",
       "      <td>2022-09-02 16:29:52+00:00</td>\n",
       "      <td>11601.040039</td>\n",
       "      <td>2022-09-02 17:11:56+00:00</td>\n",
       "      <td>444.38</td>\n",
       "      <td>125.238</td>\n",
       "      <td>0.00</td>\n",
       "      <td>4.55</td>\n",
       "      <td>3.548</td>\n",
       "      <td>1.260900</td>\n",
       "      <td>4'42\"</td>\n",
       "    </tr>\n",
       "    <tr>\n",
       "      <th>194</th>\n",
       "      <td>running</td>\n",
       "      <td>2022-09-02 16:29:52+00:00</td>\n",
       "      <td>11601.040039</td>\n",
       "      <td>2022-09-02 17:14:01+00:00</td>\n",
       "      <td>1020.21</td>\n",
       "      <td>231.366</td>\n",
       "      <td>7.93</td>\n",
       "      <td>2.27</td>\n",
       "      <td>4.410</td>\n",
       "      <td>1.447000</td>\n",
       "      <td>3'47\"</td>\n",
       "    </tr>\n",
       "    <tr>\n",
       "      <th>195</th>\n",
       "      <td>running</td>\n",
       "      <td>2022-09-02 16:29:52+00:00</td>\n",
       "      <td>11601.040039</td>\n",
       "      <td>2022-09-02 17:17:53+00:00</td>\n",
       "      <td>698.83</td>\n",
       "      <td>198.453</td>\n",
       "      <td>0.00</td>\n",
       "      <td>3.73</td>\n",
       "      <td>3.521</td>\n",
       "      <td>1.230100</td>\n",
       "      <td>4'44\"</td>\n",
       "    </tr>\n",
       "  </tbody>\n",
       "</table>\n",
       "<p>196 rows × 11 columns</p>\n",
       "</div>"
      ],
      "text/plain": [
       "     activity_type            activity_start  activity_distance  \\\n",
       "0    track_running 2022-11-25 10:10:19+00:00        4430.000000   \n",
       "1    track_running 2022-11-25 09:47:13+00:00        4550.000000   \n",
       "2    track_running 2022-11-25 09:47:13+00:00        4550.000000   \n",
       "3    track_running 2022-11-25 09:47:13+00:00        4550.000000   \n",
       "4    track_running 2022-11-25 09:47:13+00:00        4550.000000   \n",
       "..             ...                       ...                ...   \n",
       "191        running 2022-09-02 16:29:52+00:00       11601.040039   \n",
       "192        running 2022-09-02 16:29:52+00:00       11601.040039   \n",
       "193        running 2022-09-02 16:29:52+00:00       11601.040039   \n",
       "194        running 2022-09-02 16:29:52+00:00       11601.040039   \n",
       "195        running 2022-09-02 16:29:52+00:00       11601.040039   \n",
       "\n",
       "                    lap_start  lap_distance  lap_duration  elev_gain  \\\n",
       "0   2022-11-25 10:10:19+00:00       4430.00      1208.450       0.00   \n",
       "1   2022-11-25 09:47:13+00:00        100.00        19.738      24.38   \n",
       "2   2022-11-25 09:47:33+00:00        180.00        60.466       0.00   \n",
       "3   2022-11-25 09:48:33+00:00        110.00        22.386       0.00   \n",
       "4   2022-11-25 09:48:56+00:00        160.00        54.071       0.00   \n",
       "..                        ...           ...           ...        ...   \n",
       "191 2022-09-02 17:06:00+00:00        447.44       125.044       0.00   \n",
       "192 2022-09-02 17:08:05+00:00       1004.99       230.937       7.00   \n",
       "193 2022-09-02 17:11:56+00:00        444.38       125.238       0.00   \n",
       "194 2022-09-02 17:14:01+00:00       1020.21       231.366       7.93   \n",
       "195 2022-09-02 17:17:53+00:00        698.83       198.453       0.00   \n",
       "\n",
       "     elev_loss  speed  stride_length   pace  \n",
       "0         0.00  3.665       1.275195  4'33\"  \n",
       "1         0.00  4.925       1.917868  3'17\"  \n",
       "2         0.00  3.025       1.068238  5'36\"  \n",
       "3         0.00  4.890       1.630427  3'24\"  \n",
       "4         0.00  3.006       1.062047  5'38\"  \n",
       "..         ...    ...            ...    ...  \n",
       "191       4.28  3.578       1.254100  4'39\"  \n",
       "192       4.57  4.352       1.435300  3'50\"  \n",
       "193       4.55  3.548       1.260900  4'42\"  \n",
       "194       2.27  4.410       1.447000  3'47\"  \n",
       "195       3.73  3.521       1.230100  4'44\"  \n",
       "\n",
       "[196 rows x 11 columns]"
      ]
     },
     "execution_count": 98,
     "metadata": {},
     "output_type": "execute_result"
    }
   ],
   "source": [
    "lap_df"
   ]
  },
  {
   "cell_type": "code",
   "execution_count": 99,
   "id": "e1589170-e2ce-4919-a015-85f88299b93f",
   "metadata": {},
   "outputs": [],
   "source": [
    "clean_df=(lap_df.query('(activity_type == \"track_running\" and lap_distance >= 400) or (activity_type == \"running\" and lap_distance >= 1000)')\n",
    "       .query('(elev_gain/lap_distance < 0.06) and (elev_loss/lap_distance < 0.06)'))\n"
   ]
  },
  {
   "cell_type": "code",
   "execution_count": 100,
   "id": "98a0ce43-c69e-4202-a5bb-cf5841eb2f6e",
   "metadata": {},
   "outputs": [],
   "source": [
    "c1, c0 = np.polyfit(clean_df.speed,clean_df.stride_length,1)"
   ]
  },
  {
   "cell_type": "code",
   "execution_count": 17,
   "id": "2774a982-2eef-41fb-b3a5-b108607b0582",
   "metadata": {},
   "outputs": [
    {
     "data": {
      "image/png": "[encoded data removed]",
      "text/plain": [
       "<Figure size 640x480 with 1 Axes>"
      ]
     },
     "metadata": {},
     "output_type": "display_data"
    }
   ],
   "source": [
    "# plt.figure()\n",
    "# \n",
    "# plt.plot(speeds,lengths,'o', color='crimson')\n",
    "# plt.plot([speeds.min(),speeds.max()], [c0+c1*speeds.min(),c0+c1*speeds.max()],'--',color='navy')\n",
    "# plt.grid()\n",
    "# plt.xlabel(\"speed (m/s)\")\n",
    "# plt.ylabel(\"stride length (m)\")\n",
    "# plt.title(\"Angular coefficient: {:.2f}s\".format(c1))\n",
    "# plt.show() "
   ]
  },
  {
   "cell_type": "code",
   "execution_count": 131,
   "id": "c13e67ef-22f4-4da5-aa13-e9c68338087f",
   "metadata": {},
   "outputs": [],
   "source": [
    "import plotly.express as px\n",
    "import plotly.graph_objects as go"
   ]
  },
  {
   "cell_type": "code",
   "execution_count": 178,
   "id": "677fe837-8693-49ba-801d-3c88b84b46c6",
   "metadata": {},
   "outputs": [
    {
     "data": {
      "application/vnd.plotly.v1+json": {
       "config": {
        "plotlyServerURL": "https://plot.ly"
       },
       "data": [
        {
         "hovertemplate": "x=%{x}<br>y=%{y}<extra></extra>",
         "legendgroup": "",
         "line": {
          "color": "#636efa",
          "dash": "solid"
         },
         "marker": {
          "symbol": "circle"
         },
         "mode": "lines",
         "name": "",
         "orientation": "v",
         "showlegend": false,
         "type": "scatter",
         "x": [
          3.0242799663543707,
          5.071440124511719
         ],
         "xaxis": "x",
         "y": [
          1.099591820553759,
          1.6537680799499836
         ],
         "yaxis": "y"
        }
       ],
       "layout": {
        "autosize": true,
        "legend": {
         "tracegroupgap": 0
        },
        "margin": {
         "t": 60
        },
        "template": {
         "data": {
          "bar": [
           {
            "error_x": {
             "color": "#2a3f5f"
            },
            "error_y": {
             "color": "#2a3f5f"
            },
            "marker": {
             "line": {
              "color": "#E5ECF6",
              "width": 0.5
             },
             "pattern": {
              "fillmode": "overlay",
              "size": 10,
              "solidity": 0.2
             }
            },
            "type": "bar"
           }
          ],
          "barpolar": [
           {
            "marker": {
             "line": {
              "color": "#E5ECF6",
              "width": 0.5
             },
             "pattern": {
              "fillmode": "overlay",
              "size": 10,
              "solidity": 0.2
             }
            },
            "type": "barpolar"
           }
          ],
          "carpet": [
           {
            "aaxis": {
             "endlinecolor": "#2a3f5f",
             "gridcolor": "white",
             "linecolor": "white",
             "minorgridcolor": "white",
             "startlinecolor": "#2a3f5f"
            },
            "baxis": {
             "endlinecolor": "#2a3f5f",
             "gridcolor": "white",
             "linecolor": "white",
             "minorgridcolor": "white",
             "startlinecolor": "#2a3f5f"
            },
            "type": "carpet"
           }
          ],
          "choropleth": [
           {
            "colorbar": {
             "outlinewidth": 0,
             "ticks": ""
            },
            "type": "choropleth"
           }
          ],
          "contour": [
           {
            "colorbar": {
             "outlinewidth": 0,
             "ticks": ""
            },
            "colorscale": [
             [
              0,
              "#0d0887"
             ],
             [
              0.1111111111111111,
              "#46039f"
             ],
             [
              0.2222222222222222,
              "#7201a8"
             ],
             [
              0.3333333333333333,
              "#9c179e"
             ],
             [
              0.4444444444444444,
              "#bd3786"
             ],
             [
              0.5555555555555556,
              "#d8576b"
             ],
             [
              0.6666666666666666,
              "#ed7953"
             ],
             [
              0.7777777777777778,
              "#fb9f3a"
             ],
             [
              0.8888888888888888,
              "#fdca26"
             ],
             [
              1,
              "#f0f921"
             ]
            ],
            "type": "contour"
           }
          ],
          "contourcarpet": [
           {
            "colorbar": {
             "outlinewidth": 0,
             "ticks": ""
            },
            "type": "contourcarpet"
           }
          ],
          "heatmap": [
           {
            "colorbar": {
             "outlinewidth": 0,
             "ticks": ""
            },
            "colorscale": [
             [
              0,
              "#0d0887"
             ],
             [
              0.1111111111111111,
              "#46039f"
             ],
             [
              0.2222222222222222,
              "#7201a8"
             ],
             [
              0.3333333333333333,
              "#9c179e"
             ],
             [
              0.4444444444444444,
              "#bd3786"
             ],
             [
              0.5555555555555556,
              "#d8576b"
             ],
             [
              0.6666666666666666,
              "#ed7953"
             ],
             [
              0.7777777777777778,
              "#fb9f3a"
             ],
             [
              0.8888888888888888,
              "#fdca26"
             ],
             [
              1,
              "#f0f921"
             ]
            ],
            "type": "heatmap"
           }
          ],
          "heatmapgl": [
           {
            "colorbar": {
             "outlinewidth": 0,
             "ticks": ""
            },
            "colorscale": [
             [
              0,
              "#0d0887"
             ],
             [
              0.1111111111111111,
              "#46039f"
             ],
             [
              0.2222222222222222,
              "#7201a8"
             ],
             [
              0.3333333333333333,
              "#9c179e"
             ],
             [
              0.4444444444444444,
              "#bd3786"
             ],
             [
              0.5555555555555556,
              "#d8576b"
             ],
             [
              0.6666666666666666,
              "#ed7953"
             ],
             [
              0.7777777777777778,
              "#fb9f3a"
             ],
             [
              0.8888888888888888,
              "#fdca26"
             ],
             [
              1,
              "#f0f921"
             ]
            ],
            "type": "heatmapgl"
           }
          ],
          "histogram": [
           {
            "marker": {
             "pattern": {
              "fillmode": "overlay",
              "size": 10,
              "solidity": 0.2
             }
            },
            "type": "histogram"
           }
          ],
          "histogram2d": [
           {
            "colorbar": {
             "outlinewidth": 0,
             "ticks": ""
            },
            "colorscale": [
             [
              0,
              "#0d0887"
             ],
             [
              0.1111111111111111,
              "#46039f"
             ],
             [
              0.2222222222222222,
              "#7201a8"
             ],
             [
              0.3333333333333333,
              "#9c179e"
             ],
             [
              0.4444444444444444,
              "#bd3786"
             ],
             [
              0.5555555555555556,
              "#d8576b"
             ],
             [
              0.6666666666666666,
              "#ed7953"
             ],
             [
              0.7777777777777778,
              "#fb9f3a"
             ],
             [
              0.8888888888888888,
              "#fdca26"
             ],
             [
              1,
              "#f0f921"
             ]
            ],
            "type": "histogram2d"
           }
          ],
          "histogram2dcontour": [
           {
            "colorbar": {
             "outlinewidth": 0,
             "ticks": ""
            },
            "colorscale": [
             [
              0,
              "#0d0887"
             ],
             [
              0.1111111111111111,
              "#46039f"
             ],
             [
              0.2222222222222222,
              "#7201a8"
             ],
             [
              0.3333333333333333,
              "#9c179e"
             ],
             [
              0.4444444444444444,
              "#bd3786"
             ],
             [
              0.5555555555555556,
              "#d8576b"
             ],
             [
              0.6666666666666666,
              "#ed7953"
             ],
             [
              0.7777777777777778,
              "#fb9f3a"
             ],
             [
              0.8888888888888888,
              "#fdca26"
             ],
             [
              1,
              "#f0f921"
             ]
            ],
            "type": "histogram2dcontour"
           }
          ],
          "mesh3d": [
           {
            "colorbar": {
             "outlinewidth": 0,
             "ticks": ""
            },
            "type": "mesh3d"
           }
          ],
          "parcoords": [
           {
            "line": {
             "colorbar": {
              "outlinewidth": 0,
              "ticks": ""
             }
            },
            "type": "parcoords"
           }
          ],
          "pie": [
           {
            "automargin": true,
            "type": "pie"
           }
          ],
          "scatter": [
           {
            "fillpattern": {
             "fillmode": "overlay",
             "size": 10,
             "solidity": 0.2
            },
            "type": "scatter"
           }
          ],
          "scatter3d": [
           {
            "line": {
             "colorbar": {
              "outlinewidth": 0,
              "ticks": ""
             }
            },
            "marker": {
             "colorbar": {
              "outlinewidth": 0,
              "ticks": ""
             }
            },
            "type": "scatter3d"
           }
          ],
          "scattercarpet": [
           {
            "marker": {
             "colorbar": {
              "outlinewidth": 0,
              "ticks": ""
             }
            },
            "type": "scattercarpet"
           }
          ],
          "scattergeo": [
           {
            "marker": {
             "colorbar": {
              "outlinewidth": 0,
              "ticks": ""
             }
            },
            "type": "scattergeo"
           }
          ],
          "scattergl": [
           {
            "marker": {
             "colorbar": {
              "outlinewidth": 0,
              "ticks": ""
             }
            },
            "type": "scattergl"
           }
          ],
          "scattermapbox": [
           {
            "marker": {
             "colorbar": {
              "outlinewidth": 0,
              "ticks": ""
             }
            },
            "type": "scattermapbox"
           }
          ],
          "scatterpolar": [
           {
            "marker": {
             "colorbar": {
              "outlinewidth": 0,
              "ticks": ""
             }
            },
            "type": "scatterpolar"
           }
          ],
          "scatterpolargl": [
           {
            "marker": {
             "colorbar": {
              "outlinewidth": 0,
              "ticks": ""
             }
            },
            "type": "scatterpolargl"
           }
          ],
          "scatterternary": [
           {
            "marker": {
             "colorbar": {
              "outlinewidth": 0,
              "ticks": ""
             }
            },
            "type": "scatterternary"
           }
          ],
          "surface": [
           {
            "colorbar": {
             "outlinewidth": 0,
             "ticks": ""
            },
            "colorscale": [
             [
              0,
              "#0d0887"
             ],
             [
              0.1111111111111111,
              "#46039f"
             ],
             [
              0.2222222222222222,
              "#7201a8"
             ],
             [
              0.3333333333333333,
              "#9c179e"
             ],
             [
              0.4444444444444444,
              "#bd3786"
             ],
             [
              0.5555555555555556,
              "#d8576b"
             ],
             [
              0.6666666666666666,
              "#ed7953"
             ],
             [
              0.7777777777777778,
              "#fb9f3a"
             ],
             [
              0.8888888888888888,
              "#fdca26"
             ],
             [
              1,
              "#f0f921"
             ]
            ],
            "type": "surface"
           }
          ],
          "table": [
           {
            "cells": {
             "fill": {
              "color": "#EBF0F8"
             },
             "line": {
              "color": "white"
             }
            },
            "header": {
             "fill": {
              "color": "#C8D4E3"
             },
             "line": {
              "color": "white"
             }
            },
            "type": "table"
           }
          ]
         },
         "layout": {
          "annotationdefaults": {
           "arrowcolor": "#2a3f5f",
           "arrowhead": 0,
           "arrowwidth": 1
          },
          "autotypenumbers": "strict",
          "coloraxis": {
           "colorbar": {
            "outlinewidth": 0,
            "ticks": ""
           }
          },
          "colorscale": {
           "diverging": [
            [
             0,
             "#8e0152"
            ],
            [
             0.1,
             "#c51b7d"
            ],
            [
             0.2,
             "#de77ae"
            ],
            [
             0.3,
             "#f1b6da"
            ],
            [
             0.4,
             "#fde0ef"
            ],
            [
             0.5,
             "#f7f7f7"
            ],
            [
             0.6,
             "#e6f5d0"
            ],
            [
             0.7,
             "#b8e186"
            ],
            [
             0.8,
             "#7fbc41"
            ],
            [
             0.9,
             "#4d9221"
            ],
            [
             1,
             "#276419"
            ]
           ],
           "sequential": [
            [
             0,
             "#0d0887"
            ],
            [
             0.1111111111111111,
             "#46039f"
            ],
            [
             0.2222222222222222,
             "#7201a8"
            ],
            [
             0.3333333333333333,
             "#9c179e"
            ],
            [
             0.4444444444444444,
             "#bd3786"
            ],
            [
             0.5555555555555556,
             "#d8576b"
            ],
            [
             0.6666666666666666,
             "#ed7953"
            ],
            [
             0.7777777777777778,
             "#fb9f3a"
            ],
            [
             0.8888888888888888,
             "#fdca26"
            ],
            [
             1,
             "#f0f921"
            ]
           ],
           "sequentialminus": [
            [
             0,
             "#0d0887"
            ],
            [
             0.1111111111111111,
             "#46039f"
            ],
            [
             0.2222222222222222,
             "#7201a8"
            ],
            [
             0.3333333333333333,
             "#9c179e"
            ],
            [
             0.4444444444444444,
             "#bd3786"
            ],
            [
             0.5555555555555556,
             "#d8576b"
            ],
            [
             0.6666666666666666,
             "#ed7953"
            ],
            [
             0.7777777777777778,
             "#fb9f3a"
            ],
            [
             0.8888888888888888,
             "#fdca26"
            ],
            [
             1,
             "#f0f921"
            ]
           ]
          },
          "colorway": [
           "#636efa",
           "#EF553B",
           "#00cc96",
           "#ab63fa",
           "#FFA15A",
           "#19d3f3",
           "#FF6692",
           "#B6E880",
           "#FF97FF",
           "#FECB52"
          ],
          "font": {
           "color": "#2a3f5f"
          },
          "geo": {
           "bgcolor": "white",
           "lakecolor": "white",
           "landcolor": "#E5ECF6",
           "showlakes": true,
           "showland": true,
           "subunitcolor": "white"
          },
          "hoverlabel": {
           "align": "left"
          },
          "hovermode": "closest",
          "mapbox": {
           "style": "light"
          },
          "paper_bgcolor": "white",
          "plot_bgcolor": "#E5ECF6",
          "polar": {
           "angularaxis": {
            "gridcolor": "white",
            "linecolor": "white",
            "ticks": ""
           },
           "bgcolor": "#E5ECF6",
           "radialaxis": {
            "gridcolor": "white",
            "linecolor": "white",
            "ticks": ""
           }
          },
          "scene": {
           "xaxis": {
            "backgroundcolor": "#E5ECF6",
            "gridcolor": "white",
            "gridwidth": 2,
            "linecolor": "white",
            "showbackground": true,
            "ticks": "",
            "zerolinecolor": "white"
           },
           "yaxis": {
            "backgroundcolor": "#E5ECF6",
            "gridcolor": "white",
            "gridwidth": 2,
            "linecolor": "white",
            "showbackground": true,
            "ticks": "",
            "zerolinecolor": "white"
           },
           "zaxis": {
            "backgroundcolor": "#E5ECF6",
            "gridcolor": "white",
            "gridwidth": 2,
            "linecolor": "white",
            "showbackground": true,
            "ticks": "",
            "zerolinecolor": "white"
           }
          },
          "shapedefaults": {
           "line": {
            "color": "#2a3f5f"
           }
          },
          "ternary": {
           "aaxis": {
            "gridcolor": "white",
            "linecolor": "white",
            "ticks": ""
           },
           "baxis": {
            "gridcolor": "white",
            "linecolor": "white",
            "ticks": ""
           },
           "bgcolor": "#E5ECF6",
           "caxis": {
            "gridcolor": "white",
            "linecolor": "white",
            "ticks": ""
           }
          },
          "title": {
           "x": 0.05
          },
          "xaxis": {
           "automargin": true,
           "gridcolor": "white",
           "linecolor": "white",
           "ticks": "",
           "title": {
            "standoff": 15
           },
           "zerolinecolor": "white",
           "zerolinewidth": 2
          },
          "yaxis": {
           "automargin": true,
           "gridcolor": "white",
           "linecolor": "white",
           "ticks": "",
           "title": {
            "standoff": 15
           },
           "zerolinecolor": "white",
           "zerolinewidth": 2
          }
         }
        },
        "xaxis": {
         "anchor": "y",
         "autorange": true,
         "domain": [
          0,
          1
         ],
         "range": [
          3.0242799663543707,
          5.071440124511719
         ],
         "title": {
          "text": "x"
         },
         "type": "linear"
        },
        "yaxis": {
         "anchor": "x",
         "autorange": true,
         "domain": [
          0,
          1
         ],
         "range": [
          1.068804250587302,
          1.6845556499164407
         ],
         "title": {
          "text": "y"
         },
         "type": "linear"
        }
       }
      },
      "image/png": "[encoded data removed]",
      "text/html": [
       "<div>                            <div id=\"361ec499-6226-4047-91e8-ec424c5cf0c1\" class=\"plotly-graph-div\" style=\"height:525px; width:100%;\"></div>            <script type=\"text/javascript\">                require([\"plotly\"], function(Plotly) {                    window.PLOTLYENV=window.PLOTLYENV || {};                                    if (document.getElementById(\"361ec499-6226-4047-91e8-ec424c5cf0c1\")) {                    Plotly.newPlot(                        \"361ec499-6226-4047-91e8-ec424c5cf0c1\",                        [{\"hovertemplate\":\"x=%{x}<br>y=%{y}<extra></extra>\",\"legendgroup\":\"\",\"line\":{\"color\":\"#636efa\",\"dash\":\"solid\"},\"marker\":{\"symbol\":\"circle\"},\"mode\":\"lines\",\"name\":\"\",\"orientation\":\"v\",\"showlegend\":false,\"x\":[3.0242799663543707,5.071440124511719],\"xaxis\":\"x\",\"y\":[1.099591820553759,1.6537680799499836],\"yaxis\":\"y\",\"type\":\"scatter\"}],                        {\"template\":{\"data\":{\"histogram2dcontour\":[{\"type\":\"histogram2dcontour\",\"colorbar\":{\"outlinewidth\":0,\"ticks\":\"\"},\"colorscale\":[[0.0,\"#0d0887\"],[0.1111111111111111,\"#46039f\"],[0.2222222222222222,\"#7201a8\"],[0.3333333333333333,\"#9c179e\"],[0.4444444444444444,\"#bd3786\"],[0.5555555555555556,\"#d8576b\"],[0.6666666666666666,\"#ed7953\"],[0.7777777777777778,\"#fb9f3a\"],[0.8888888888888888,\"#fdca26\"],[1.0,\"#f0f921\"]]}],\"choropleth\":[{\"type\":\"choropleth\",\"colorbar\":{\"outlinewidth\":0,\"ticks\":\"\"}}],\"histogram2d\":[{\"type\":\"histogram2d\",\"colorbar\":{\"outlinewidth\":0,\"ticks\":\"\"},\"colorscale\":[[0.0,\"#0d0887\"],[0.1111111111111111,\"#46039f\"],[0.2222222222222222,\"#7201a8\"],[0.3333333333333333,\"#9c179e\"],[0.4444444444444444,\"#bd3786\"],[0.5555555555555556,\"#d8576b\"],[0.6666666666666666,\"#ed7953\"],[0.7777777777777778,\"#fb9f3a\"],[0.8888888888888888,\"#fdca26\"],[1.0,\"#f0f921\"]]}],\"heatmap\":[{\"type\":\"heatmap\",\"colorbar\":{\"outlinewidth\":0,\"ticks\":\"\"},\"colorscale\":[[0.0,\"#0d0887\"],[0.1111111111111111,\"#46039f\"],[0.2222222222222222,\"#7201a8\"],[0.3333333333333333,\"#9c179e\"],[0.4444444444444444,\"#bd3786\"],[0.5555555555555556,\"#d8576b\"],[0.6666666666666666,\"#ed7953\"],[0.7777777777777778,\"#fb9f3a\"],[0.8888888888888888,\"#fdca26\"],[1.0,\"#f0f921\"]]}],\"heatmapgl\":[{\"type\":\"heatmapgl\",\"colorbar\":{\"outlinewidth\":0,\"ticks\":\"\"},\"colorscale\":[[0.0,\"#0d0887\"],[0.1111111111111111,\"#46039f\"],[0.2222222222222222,\"#7201a8\"],[0.3333333333333333,\"#9c179e\"],[0.4444444444444444,\"#bd3786\"],[0.5555555555555556,\"#d8576b\"],[0.6666666666666666,\"#ed7953\"],[0.7777777777777778,\"#fb9f3a\"],[0.8888888888888888,\"#fdca26\"],[1.0,\"#f0f921\"]]}],\"contourcarpet\":[{\"type\":\"contourcarpet\",\"colorbar\":{\"outlinewidth\":0,\"ticks\":\"\"}}],\"contour\":[{\"type\":\"contour\",\"colorbar\":{\"outlinewidth\":0,\"ticks\":\"\"},\"colorscale\":[[0.0,\"#0d0887\"],[0.1111111111111111,\"#46039f\"],[0.2222222222222222,\"#7201a8\"],[0.3333333333333333,\"#9c179e\"],[0.4444444444444444,\"#bd3786\"],[0.5555555555555556,\"#d8576b\"],[0.6666666666666666,\"#ed7953\"],[0.7777777777777778,\"#fb9f3a\"],[0.8888888888888888,\"#fdca26\"],[1.0,\"#f0f921\"]]}],\"surface\":[{\"type\":\"surface\",\"colorbar\":{\"outlinewidth\":0,\"ticks\":\"\"},\"colorscale\":[[0.0,\"#0d0887\"],[0.1111111111111111,\"#46039f\"],[0.2222222222222222,\"#7201a8\"],[0.3333333333333333,\"#9c179e\"],[0.4444444444444444,\"#bd3786\"],[0.5555555555555556,\"#d8576b\"],[0.6666666666666666,\"#ed7953\"],[0.7777777777777778,\"#fb9f3a\"],[0.8888888888888888,\"#fdca26\"],[1.0,\"#f0f921\"]]}],\"mesh3d\":[{\"type\":\"mesh3d\",\"colorbar\":{\"outlinewidth\":0,\"ticks\":\"\"}}],\"scatter\":[{\"fillpattern\":{\"fillmode\":\"overlay\",\"size\":10,\"solidity\":0.2},\"type\":\"scatter\"}],\"parcoords\":[{\"type\":\"parcoords\",\"line\":{\"colorbar\":{\"outlinewidth\":0,\"ticks\":\"\"}}}],\"scatterpolargl\":[{\"type\":\"scatterpolargl\",\"marker\":{\"colorbar\":{\"outlinewidth\":0,\"ticks\":\"\"}}}],\"bar\":[{\"error_x\":{\"color\":\"#2a3f5f\"},\"error_y\":{\"color\":\"#2a3f5f\"},\"marker\":{\"line\":{\"color\":\"#E5ECF6\",\"width\":0.5},\"pattern\":{\"fillmode\":\"overlay\",\"size\":10,\"solidity\":0.2}},\"type\":\"bar\"}],\"scattergeo\":[{\"type\":\"scattergeo\",\"marker\":{\"colorbar\":{\"outlinewidth\":0,\"ticks\":\"\"}}}],\"scatterpolar\":[{\"type\":\"scatterpolar\",\"marker\":{\"colorbar\":{\"outlinewidth\":0,\"ticks\":\"\"}}}],\"histogram\":[{\"marker\":{\"pattern\":{\"fillmode\":\"overlay\",\"size\":10,\"solidity\":0.2}},\"type\":\"histogram\"}],\"scattergl\":[{\"type\":\"scattergl\",\"marker\":{\"colorbar\":{\"outlinewidth\":0,\"ticks\":\"\"}}}],\"scatter3d\":[{\"type\":\"scatter3d\",\"line\":{\"colorbar\":{\"outlinewidth\":0,\"ticks\":\"\"}},\"marker\":{\"colorbar\":{\"outlinewidth\":0,\"ticks\":\"\"}}}],\"scattermapbox\":[{\"type\":\"scattermapbox\",\"marker\":{\"colorbar\":{\"outlinewidth\":0,\"ticks\":\"\"}}}],\"scatterternary\":[{\"type\":\"scatterternary\",\"marker\":{\"colorbar\":{\"outlinewidth\":0,\"ticks\":\"\"}}}],\"scattercarpet\":[{\"type\":\"scattercarpet\",\"marker\":{\"colorbar\":{\"outlinewidth\":0,\"ticks\":\"\"}}}],\"carpet\":[{\"aaxis\":{\"endlinecolor\":\"#2a3f5f\",\"gridcolor\":\"white\",\"linecolor\":\"white\",\"minorgridcolor\":\"white\",\"startlinecolor\":\"#2a3f5f\"},\"baxis\":{\"endlinecolor\":\"#2a3f5f\",\"gridcolor\":\"white\",\"linecolor\":\"white\",\"minorgridcolor\":\"white\",\"startlinecolor\":\"#2a3f5f\"},\"type\":\"carpet\"}],\"table\":[{\"cells\":{\"fill\":{\"color\":\"#EBF0F8\"},\"line\":{\"color\":\"white\"}},\"header\":{\"fill\":{\"color\":\"#C8D4E3\"},\"line\":{\"color\":\"white\"}},\"type\":\"table\"}],\"barpolar\":[{\"marker\":{\"line\":{\"color\":\"#E5ECF6\",\"width\":0.5},\"pattern\":{\"fillmode\":\"overlay\",\"size\":10,\"solidity\":0.2}},\"type\":\"barpolar\"}],\"pie\":[{\"automargin\":true,\"type\":\"pie\"}]},\"layout\":{\"autotypenumbers\":\"strict\",\"colorway\":[\"#636efa\",\"#EF553B\",\"#00cc96\",\"#ab63fa\",\"#FFA15A\",\"#19d3f3\",\"#FF6692\",\"#B6E880\",\"#FF97FF\",\"#FECB52\"],\"font\":{\"color\":\"#2a3f5f\"},\"hovermode\":\"closest\",\"hoverlabel\":{\"align\":\"left\"},\"paper_bgcolor\":\"white\",\"plot_bgcolor\":\"#E5ECF6\",\"polar\":{\"bgcolor\":\"#E5ECF6\",\"angularaxis\":{\"gridcolor\":\"white\",\"linecolor\":\"white\",\"ticks\":\"\"},\"radialaxis\":{\"gridcolor\":\"white\",\"linecolor\":\"white\",\"ticks\":\"\"}},\"ternary\":{\"bgcolor\":\"#E5ECF6\",\"aaxis\":{\"gridcolor\":\"white\",\"linecolor\":\"white\",\"ticks\":\"\"},\"baxis\":{\"gridcolor\":\"white\",\"linecolor\":\"white\",\"ticks\":\"\"},\"caxis\":{\"gridcolor\":\"white\",\"linecolor\":\"white\",\"ticks\":\"\"}},\"coloraxis\":{\"colorbar\":{\"outlinewidth\":0,\"ticks\":\"\"}},\"colorscale\":{\"sequential\":[[0.0,\"#0d0887\"],[0.1111111111111111,\"#46039f\"],[0.2222222222222222,\"#7201a8\"],[0.3333333333333333,\"#9c179e\"],[0.4444444444444444,\"#bd3786\"],[0.5555555555555556,\"#d8576b\"],[0.6666666666666666,\"#ed7953\"],[0.7777777777777778,\"#fb9f3a\"],[0.8888888888888888,\"#fdca26\"],[1.0,\"#f0f921\"]],\"sequentialminus\":[[0.0,\"#0d0887\"],[0.1111111111111111,\"#46039f\"],[0.2222222222222222,\"#7201a8\"],[0.3333333333333333,\"#9c179e\"],[0.4444444444444444,\"#bd3786\"],[0.5555555555555556,\"#d8576b\"],[0.6666666666666666,\"#ed7953\"],[0.7777777777777778,\"#fb9f3a\"],[0.8888888888888888,\"#fdca26\"],[1.0,\"#f0f921\"]],\"diverging\":[[0,\"#8e0152\"],[0.1,\"#c51b7d\"],[0.2,\"#de77ae\"],[0.3,\"#f1b6da\"],[0.4,\"#fde0ef\"],[0.5,\"#f7f7f7\"],[0.6,\"#e6f5d0\"],[0.7,\"#b8e186\"],[0.8,\"#7fbc41\"],[0.9,\"#4d9221\"],[1,\"#276419\"]]},\"xaxis\":{\"gridcolor\":\"white\",\"linecolor\":\"white\",\"ticks\":\"\",\"title\":{\"standoff\":15},\"zerolinecolor\":\"white\",\"automargin\":true,\"zerolinewidth\":2},\"yaxis\":{\"gridcolor\":\"white\",\"linecolor\":\"white\",\"ticks\":\"\",\"title\":{\"standoff\":15},\"zerolinecolor\":\"white\",\"automargin\":true,\"zerolinewidth\":2},\"scene\":{\"xaxis\":{\"backgroundcolor\":\"#E5ECF6\",\"gridcolor\":\"white\",\"linecolor\":\"white\",\"showbackground\":true,\"ticks\":\"\",\"zerolinecolor\":\"white\",\"gridwidth\":2},\"yaxis\":{\"backgroundcolor\":\"#E5ECF6\",\"gridcolor\":\"white\",\"linecolor\":\"white\",\"showbackground\":true,\"ticks\":\"\",\"zerolinecolor\":\"white\",\"gridwidth\":2},\"zaxis\":{\"backgroundcolor\":\"#E5ECF6\",\"gridcolor\":\"white\",\"linecolor\":\"white\",\"showbackground\":true,\"ticks\":\"\",\"zerolinecolor\":\"white\",\"gridwidth\":2}},\"shapedefaults\":{\"line\":{\"color\":\"#2a3f5f\"}},\"annotationdefaults\":{\"arrowcolor\":\"#2a3f5f\",\"arrowhead\":0,\"arrowwidth\":1},\"geo\":{\"bgcolor\":\"white\",\"landcolor\":\"#E5ECF6\",\"subunitcolor\":\"white\",\"showland\":true,\"showlakes\":true,\"lakecolor\":\"white\"},\"title\":{\"x\":0.05},\"mapbox\":{\"style\":\"light\"}}},\"xaxis\":{\"anchor\":\"y\",\"domain\":[0.0,1.0],\"title\":{\"text\":\"x\"}},\"yaxis\":{\"anchor\":\"x\",\"domain\":[0.0,1.0],\"title\":{\"text\":\"y\"}},\"legend\":{\"tracegroupgap\":0},\"margin\":{\"t\":60}},                        {\"responsive\": true}                    ).then(function(){\n",
       "                            \n",
       "var gd = document.getElementById('361ec499-6226-4047-91e8-ec424c5cf0c1');\n",
       "var x = new MutationObserver(function (mutations, observer) {{\n",
       "        var display = window.getComputedStyle(gd).display;\n",
       "        if (!display || display === 'none') {{\n",
       "            console.log([gd, 'removed!']);\n",
       "            Plotly.purge(gd);\n",
       "            observer.disconnect();\n",
       "        }}\n",
       "}});\n",
       "\n",
       "// Listen for the removal of the full notebook cells\n",
       "var notebookContainer = gd.closest('#notebook-container');\n",
       "if (notebookContainer) {{\n",
       "    x.observe(notebookContainer, {childList: true});\n",
       "}}\n",
       "\n",
       "// Listen for the clearing of the current output cell\n",
       "var outputEl = gd.closest('.output');\n",
       "if (outputEl) {{\n",
       "    x.observe(outputEl, {childList: true});\n",
       "}}\n",
       "\n",
       "                        })                };                });            </script>        </div>"
      ]
     },
     "metadata": {},
     "output_type": "display_data"
    }
   ],
   "source": [
    "px.line(x=[clean_df.speed.min()*0.98,clean_df.speed.max()*1.02],y=[c0+c1*clean_df.speed.min()*0.98,c0+c1*clean_df.speed.max()*1.02,])"
   ]
  },
  {
   "cell_type": "code",
   "execution_count": 182,
   "id": "fcbb4ba9-e34c-44cb-b7f9-0994a05aa2b7",
   "metadata": {},
   "outputs": [
    {
     "data": {
      "application/vnd.plotly.v1+json": {
       "config": {
        "plotlyServerURL": "https://plot.ly"
       },
       "data": [
        {
         "customdata": [
          [
           "2022-11-25T10:10:19+00:00",
           "4'33\"",
           4430
          ],
          [
           "2022-11-25T09:16:08+00:00",
           "4'35\"",
           4460
          ],
          [
           "2022-11-15T16:44:09+00:00",
           "4'39\"",
           3230
          ],
          [
           "2022-11-15T16:44:09+00:00",
           "3'58\"",
           510
          ],
          [
           "2022-11-15T16:44:09+00:00",
           "4'28\"",
           450
          ],
          [
           "2022-11-09T17:49:31+00:00",
           "4'5\"",
           490
          ],
          [
           "2022-11-09T17:49:31+00:00",
           "3'31\"",
           500
          ],
          [
           "2022-11-09T17:49:31+00:00",
           "4'3\"",
           500
          ],
          [
           "2022-11-09T17:49:31+00:00",
           "3'29\"",
           500
          ],
          [
           "2022-11-09T17:49:31+00:00",
           "4'5\"",
           490
          ],
          [
           "2022-11-09T17:49:31+00:00",
           "3'32\"",
           500
          ],
          [
           "2022-11-09T17:49:31+00:00",
           "3'57\"",
           510
          ],
          [
           "2022-11-09T17:49:31+00:00",
           "3'32\"",
           500
          ],
          [
           "2022-11-09T17:49:31+00:00",
           "4'5\"",
           490
          ],
          [
           "2022-11-09T17:49:31+00:00",
           "3'29\"",
           500
          ],
          [
           "2022-11-09T17:49:31+00:00",
           "4'3\"",
           500
          ],
          [
           "2022-11-09T17:49:31+00:00",
           "3'31\"",
           500
          ],
          [
           "2022-11-09T17:49:31+00:00",
           "4'3\"",
           490
          ],
          [
           "2022-11-09T17:49:31+00:00",
           "3'28\"",
           510
          ],
          [
           "2022-11-09T17:49:31+00:00",
           "3'59\"",
           500
          ],
          [
           "2022-11-09T17:49:31+00:00",
           "3'34\"",
           500
          ],
          [
           "2022-11-09T17:49:31+00:00",
           "4'5\"",
           490
          ],
          [
           "2022-11-09T17:49:31+00:00",
           "3'31\"",
           500
          ],
          [
           "2022-11-09T17:49:31+00:00",
           "3'58\"",
           510
          ],
          [
           "2022-11-09T17:49:31+00:00",
           "3'33\"",
           500
          ],
          [
           "2022-11-09T17:49:31+00:00",
           "4'1\"",
           500
          ],
          [
           "2022-11-09T17:49:31+00:00",
           "3'31\"",
           500
          ],
          [
           "2022-11-09T17:49:31+00:00",
           "4'2\"",
           500
          ],
          [
           "2022-11-09T17:49:31+00:00",
           "3'30\"",
           500
          ],
          [
           "2022-11-09T17:20:09+00:00",
           "4'39\"",
           3570
          ],
          [
           "2022-11-03T17:59:49+00:00",
           "3'40\"",
           2730
          ],
          [
           "2022-11-03T17:59:49+00:00",
           "5'26\"",
           740
          ],
          [
           "2022-11-03T17:59:49+00:00",
           "3'40\"",
           2730
          ],
          [
           "2022-11-03T17:59:49+00:00",
           "5'18\"",
           750
          ],
          [
           "2022-11-03T17:59:49+00:00",
           "3'38\"",
           2750
          ],
          [
           "2022-11-03T17:33:26+00:00",
           "4'33\"",
           3570
          ],
          [
           "2022-10-19T16:49:50+00:00",
           "4'13\"",
           500
          ],
          [
           "2022-10-19T16:49:50+00:00",
           "3'38\"",
           500
          ],
          [
           "2022-10-19T16:49:50+00:00",
           "4'13\"",
           490
          ],
          [
           "2022-10-19T16:49:50+00:00",
           "3'41\"",
           500
          ],
          [
           "2022-10-19T16:49:50+00:00",
           "4'9\"",
           500
          ],
          [
           "2022-10-19T16:49:50+00:00",
           "3'43\"",
           500
          ],
          [
           "2022-10-19T16:49:50+00:00",
           "4'6\"",
           500
          ],
          [
           "2022-10-19T16:49:50+00:00",
           "3'40\"",
           500
          ],
          [
           "2022-10-19T16:49:50+00:00",
           "4'7\"",
           500
          ],
          [
           "2022-10-19T16:49:50+00:00",
           "3'35\"",
           500
          ],
          [
           "2022-10-19T16:49:50+00:00",
           "4'5\"",
           500
          ],
          [
           "2022-10-19T16:49:50+00:00",
           "3'34\"",
           510
          ],
          [
           "2022-10-19T16:49:50+00:00",
           "4'8\"",
           500
          ],
          [
           "2022-10-19T16:49:50+00:00",
           "3'37\"",
           500
          ],
          [
           "2022-10-19T16:49:50+00:00",
           "4'8\"",
           500
          ],
          [
           "2022-10-19T16:49:50+00:00",
           "3'41\"",
           500
          ],
          [
           "2022-10-19T16:49:50+00:00",
           "4'6\"",
           500
          ],
          [
           "2022-10-19T16:49:50+00:00",
           "3'39\"",
           500
          ],
          [
           "2022-10-19T16:49:50+00:00",
           "4'4\"",
           500
          ],
          [
           "2022-10-19T16:49:50+00:00",
           "3'34\"",
           500
          ],
          [
           "2022-10-19T16:49:50+00:00",
           "4'7\"",
           500
          ],
          [
           "2022-10-19T16:49:50+00:00",
           "3'30\"",
           510
          ],
          [
           "2022-10-19T16:24:04+00:00",
           "4'46\"",
           3200
          ],
          [
           "2022-10-13T16:44:29+00:00",
           "3'53\"",
           2580
          ],
          [
           "2022-10-13T16:44:29+00:00",
           "5'20\"",
           730
          ],
          [
           "2022-10-13T16:44:29+00:00",
           "3'48\"",
           2630
          ],
          [
           "2022-10-13T16:44:29+00:00",
           "5'18\"",
           770
          ],
          [
           "2022-10-13T16:44:29+00:00",
           "3'51\"",
           2600
          ],
          [
           "2022-10-13T16:20:28+00:00",
           "4'44\"",
           3190
          ],
          [
           "2022-09-23T09:41:39+00:00",
           "3'41\"",
           1000
          ],
          [
           "2022-09-23T09:41:39+00:00",
           "4'52\"",
           420
          ],
          [
           "2022-09-23T09:41:39+00:00",
           "3'41\"",
           1000
          ],
          [
           "2022-09-23T09:41:39+00:00",
           "3'39\"",
           1000
          ],
          [
           "2022-09-23T09:41:39+00:00",
           "3'40\"",
           1000
          ],
          [
           "2022-09-23T09:41:39+00:00",
           "3'24\"",
           400
          ],
          [
           "2022-09-23T09:41:39+00:00",
           "3'22\"",
           400
          ],
          [
           "2022-09-23T09:41:39+00:00",
           "3'26\"",
           400
          ],
          [
           "2022-09-23T09:41:39+00:00",
           "3'25\"",
           400
          ],
          [
           "2022-09-23T09:09:03+00:00",
           "4'47\"",
           3140
          ],
          [
           "2022-09-23T09:09:03+00:00",
           "3'57\"",
           510
          ],
          [
           "2022-09-23T09:09:03+00:00",
           "4'47\"",
           420
          ]
         ],
         "hovertemplate": "activity_type=track_running<br>speed (m/s)=%{x}<br>stride length (m)=%{y}<br>size=%{marker.size}<br>activity_start=%{customdata[0]}<br>pace=%{customdata[1]}<br>lap_distance=%{customdata[2]}<extra></extra>",
         "legendgroup": "track_running",
         "marker": {
          "color": "#636efa",
          "size": [
           3162.2776601683795,
           3162.2776601683795,
           3162.2776601683795,
           510,
           450,
           490,
           500,
           500,
           500,
           490,
           500,
           510,
           500,
           490,
           500,
           500,
           500,
           490,
           510,
           500,
           500,
           490,
           500,
           510,
           500,
           500,
           500,
           500,
           500,
           3162.2776601683795,
           2730,
           740,
           2730,
           750,
           2750,
           3162.2776601683795,
           500,
           500,
           490,
           500,
           500,
           500,
           500,
           500,
           500,
           500,
           500,
           510,
           500,
           500,
           500,
           500,
           500,
           500,
           500,
           500,
           500,
           510,
           3162.2776601683795,
           2580,
           730,
           2630,
           770,
           2600,
           3162.2776601683795,
           1000,
           420,
           1000,
           1000,
           1000,
           400,
           400,
           400,
           400,
           3140,
           510,
           420
          ],
          "sizemode": "area",
          "sizeref": 31.622776601683796,
          "symbol": "circle"
         },
         "mode": "markers",
         "name": "track_running",
         "orientation": "v",
         "showlegend": true,
         "type": "scatter",
         "x": [
          3.6649999618530273,
          3.634000062942505,
          3.5769999027252197,
          4.171000003814697,
          3.7090001106262207,
          4.074999809265137,
          4.747000217437744,
          4.119999885559082,
          4.808000087738037,
          4.107999801635742,
          4.697000026702881,
          4.195000171661377,
          4.7170000076293945,
          4.118000030517578,
          4.808000087738037,
          4.14900016784668,
          4.718999862670898,
          4.130000114440918,
          4.775000095367432,
          4.176000118255615,
          4.688000202178955,
          4.123000144958496,
          4.74399995803833,
          4.169000148773193,
          4.6539998054504395,
          4.1539998054504395,
          4.728000164031982,
          4.176000118255615,
          4.789999961853027,
          3.5840001106262207,
          4.5329999923706055,
          3.085999965667725,
          4.543000221252441,
          3.138000011444092,
          4.578999996185303,
          3.6579999923706055,
          3.9159998893737793,
          4.624000072479248,
          3.9779999256134033,
          4.557000160217285,
          3.9820001125335693,
          4.5229997634887695,
          4.047999858856201,
          4.554999828338623,
          4.0320000648498535,
          4.658999919891357,
          4.054999828338623,
          4.631999969482422,
          3.9979999065399174,
          4.607999801635742,
          4.026000022888184,
          4.539999961853027,
          4.057000160217285,
          4.576000213623047,
          4.089000225067139,
          4.697000026702881,
          4.033999919891357,
          4.730000019073486,
          3.497999906539917,
          4.2829999923706055,
          3.1059999465942383,
          4.38100004196167,
          3.122999906539917,
          4.321000099182129,
          3.5209999084472656,
          4.5279998779296875,
          3.4049999713897705,
          4.538000106811523,
          4.574999809265137,
          4.559000015258789,
          4.896999835968018,
          4.9720001220703125,
          4.888000011444092,
          4.881999969482422,
          3.490999937057495,
          4.202000141143799,
          3.4639999866485596
         ],
         "xaxis": "x",
         "y": [
          1.275194845996811,
          1.2619601221172767,
          1.266699951171875,
          1.3990999755859375,
          1.318699951171875,
          1.4168000488281252,
          1.595300048828125,
          1.4459000244140625,
          1.552699951171875,
          1.4694000244140626,
          1.5915999755859378,
          1.4609000244140626,
          1.5719000244140624,
          1.465199951171875,
          1.570699951171875,
          1.4556999511718751,
          1.589199951171875,
          1.4675,
          1.5694000244140625,
          1.4625,
          1.5524000244140626,
          1.4645999755859376,
          1.5745999755859375,
          1.443699951171875,
          1.5580999755859375,
          1.4574000244140626,
          1.5618000488281252,
          1.454699951171875,
          1.5698000488281252,
          1.2635999755859375,
          1.5505000000000002,
          1.148199951171875,
          1.544,
          1.1805999755859375,
          1.5495999755859375,
          1.3005999755859374,
          1.3585999755859377,
          1.5255,
          1.4181999511718753,
          1.5239000244140626,
          1.4095000000000002,
          1.5145999755859376,
          1.416,
          1.520699951171875,
          1.419,
          1.5495,
          1.4296999511718749,
          1.524,
          1.403699951171875,
          1.520699951171875,
          1.4170999755859375,
          1.506699951171875,
          1.4168000488281252,
          1.501300048828125,
          1.4283000488281252,
          1.541300048828125,
          1.4149000244140626,
          1.5390000000000001,
          1.256699951171875,
          1.460199951171875,
          1.175699951171875,
          1.475800048828125,
          1.1546999511718752,
          1.4604000244140625,
          1.2670000000000001,
          1.4950999755859378,
          1.182300048828125,
          1.4725,
          1.505300048828125,
          1.497199951171875,
          1.4920000000000002,
          1.5470000000000002,
          1.5430000000000001,
          1.5435000000000003,
          1.254800048828125,
          1.432699951171875,
          1.2904000244140625
         ],
         "yaxis": "y"
        },
        {
         "customdata": [
          [
           "2022-11-23T11:08:50+00:00",
           "4'36\"",
           11030.63
          ],
          [
           "2022-11-22T06:52:17+00:00",
           "4'45\"",
           8817.35
          ],
          [
           "2022-11-20T08:31:09+00:00",
           "3'33\"",
           10053.58
          ],
          [
           "2022-11-20T07:51:50+00:00",
           "4'40\"",
           3224.15
          ],
          [
           "2022-11-18T06:54:05+00:00",
           "4'47\"",
           10473.29
          ],
          [
           "2022-11-16T15:02:03+00:00",
           "4'49\"",
           12557.52
          ],
          [
           "2022-11-15T18:02:27+00:00",
           "4'49\"",
           1128.3
          ],
          [
           "2022-11-13T06:37:29+00:00",
           "4'44\"",
           11307.02
          ],
          [
           "2022-11-12T10:49:54+00:00",
           "4'44\"",
           20412.87
          ],
          [
           "2022-11-11T12:15:10+00:00",
           "4'44\"",
           11653.93
          ],
          [
           "2022-11-08T12:16:10+00:00",
           "4'40\"",
           11800.61
          ],
          [
           "2022-11-06T13:47:45+00:00",
           "4'41\"",
           20209.08
          ],
          [
           "2022-11-05T14:10:54+00:00",
           "4'43\"",
           12134.55
          ],
          [
           "2022-11-02T11:37:02+00:00",
           "4'46\"",
           11034.13
          ],
          [
           "2022-11-01T06:50:25+00:00",
           "4'43\"",
           12935.66
          ],
          [
           "2022-10-30T08:20:48+00:00",
           "4'41\"",
           18281.47
          ],
          [
           "2022-10-28T11:15:50+00:00",
           "4'44\"",
           11519
          ],
          [
           "2022-10-26T16:36:46+00:00",
           "3'53\"",
           12121.47
          ],
          [
           "2022-10-26T16:10:08+00:00",
           "4'40\"",
           3489.53
          ],
          [
           "2022-10-25T11:14:12+00:00",
           "4'47\"",
           11914.82
          ],
          [
           "2022-10-23T05:31:39+00:00",
           "4'52\"",
           10518.69
          ],
          [
           "2022-10-22T08:21:19+00:00",
           "4'42\"",
           20220.54
          ],
          [
           "2022-10-21T11:16:17+00:00",
           "4'51\"",
           10841.51
          ],
          [
           "2022-10-18T11:15:16+00:00",
           "4'50\"",
           11615.28
          ],
          [
           "2022-10-16T06:53:06+00:00",
           "5'2\"",
           6207.59
          ],
          [
           "2022-10-16T06:53:06+00:00",
           "4'38\"",
           12133.9
          ],
          [
           "2022-10-15T10:46:22+00:00",
           "4'49\"",
           10622.51
          ],
          [
           "2022-10-12T11:17:11+00:00",
           "4'52\"",
           10911.58
          ],
          [
           "2022-10-09T07:43:03+00:00",
           "4'48\"",
           18194.99
          ],
          [
           "2022-10-07T04:29:01+00:00",
           "3'58\"",
           11065
          ],
          [
           "2022-10-07T04:02:35+00:00",
           "4'51\"",
           3111.67
          ],
          [
           "2022-10-05T11:15:22+00:00",
           "4'49\"",
           11558.78
          ],
          [
           "2022-10-03T11:20:41+00:00",
           "5'2\"",
           9417.29
          ],
          [
           "2022-10-02T09:29:57+00:00",
           "4'44\"",
           20443.58
          ],
          [
           "2022-10-01T07:48:51+00:00",
           "4'47\"",
           10504.56
          ],
          [
           "2022-09-29T16:44:51+00:00",
           "3'47\"",
           1006.05
          ],
          [
           "2022-09-29T16:44:51+00:00",
           "4'7\"",
           1005.81
          ],
          [
           "2022-09-29T16:44:51+00:00",
           "3'50\"",
           1017.34
          ],
          [
           "2022-09-29T16:44:51+00:00",
           "3'55\"",
           1097.67
          ],
          [
           "2022-09-29T16:44:51+00:00",
           "3'49\"",
           1009
          ],
          [
           "2022-09-29T16:44:51+00:00",
           "3'44\"",
           1011.98
          ],
          [
           "2022-09-29T16:44:51+00:00",
           "4'5\"",
           1021.67
          ],
          [
           "2022-09-29T16:16:19+00:00",
           "4'45\"",
           3481.77
          ],
          [
           "2022-09-28T11:16:03+00:00",
           "4'53\"",
           11492.04
          ],
          [
           "2022-09-26T11:16:33+00:00",
           "4'52\"",
           9780.64
          ],
          [
           "2022-09-25T07:51:28+00:00",
           "4'48\"",
           18182.83
          ],
          [
           "2022-09-24T09:11:06+00:00",
           "5'13\"",
           9632.92
          ],
          [
           "2022-09-21T11:15:54+00:00",
           "4'51\"",
           9407.74
          ],
          [
           "2022-09-20T11:15:45+00:00",
           "4'54\"",
           11266.36
          ],
          [
           "2022-09-18T07:48:39+00:00",
           "4'50\"",
           18084.97
          ],
          [
           "2022-09-17T10:44:11+00:00",
           "4'49\"",
           10627.73
          ],
          [
           "2022-09-15T16:08:12+00:00",
           "4'54\"",
           4382.66
          ],
          [
           "2022-09-15T16:08:12+00:00",
           "4'8\"",
           9026.93
          ],
          [
           "2022-09-14T11:18:09+00:00",
           "4'55\"",
           10635.72
          ],
          [
           "2022-09-11T07:13:44+00:00",
           "4'54\"",
           17045.02
          ],
          [
           "2022-09-09T08:15:30+00:00",
           "4'50\"",
           4460.07
          ],
          [
           "2022-09-09T08:15:30+00:00",
           "4'10\"",
           7073.08
          ],
          [
           "2022-09-07T17:07:30+00:00",
           "4'55\"",
           10178.18
          ],
          [
           "2022-09-06T07:30:25+00:00",
           "4'53\"",
           12391.57
          ],
          [
           "2022-09-02T16:29:52+00:00",
           "4'58\"",
           4064.36
          ],
          [
           "2022-09-02T16:29:52+00:00",
           "3'56\"",
           1021.69
          ],
          [
           "2022-09-02T16:29:52+00:00",
           "3'49\"",
           1009.71
          ],
          [
           "2022-09-02T16:29:52+00:00",
           "3'52\"",
           1008.07
          ],
          [
           "2022-09-02T16:29:52+00:00",
           "3'50\"",
           1004.99
          ],
          [
           "2022-09-02T16:29:52+00:00",
           "3'47\"",
           1020.21
          ]
         ],
         "hovertemplate": "activity_type=running<br>speed (m/s)=%{x}<br>stride length (m)=%{y}<br>size=%{marker.size}<br>activity_start=%{customdata[0]}<br>pace=%{customdata[1]}<br>lap_distance=%{customdata[2]}<extra></extra>",
         "legendgroup": "running",
         "marker": {
          "color": "#EF553B",
          "size": [
           3162.2776601683795,
           3162.2776601683795,
           3162.2776601683795,
           3162.2776601683795,
           3162.2776601683795,
           3162.2776601683795,
           1128.3,
           3162.2776601683795,
           3162.2776601683795,
           3162.2776601683795,
           3162.2776601683795,
           3162.2776601683795,
           3162.2776601683795,
           3162.2776601683795,
           3162.2776601683795,
           3162.2776601683795,
           3162.2776601683795,
           3162.2776601683795,
           3162.2776601683795,
           3162.2776601683795,
           3162.2776601683795,
           3162.2776601683795,
           3162.2776601683795,
           3162.2776601683795,
           3162.2776601683795,
           3162.2776601683795,
           3162.2776601683795,
           3162.2776601683795,
           3162.2776601683795,
           3162.2776601683795,
           3111.67,
           3162.2776601683795,
           3162.2776601683795,
           3162.2776601683795,
           3162.2776601683795,
           1006.05,
           1005.81,
           1017.34,
           1097.67,
           1009,
           1011.98,
           1021.67,
           3162.2776601683795,
           3162.2776601683795,
           3162.2776601683795,
           3162.2776601683795,
           3162.2776601683795,
           3162.2776601683795,
           3162.2776601683795,
           3162.2776601683795,
           3162.2776601683795,
           3162.2776601683795,
           3162.2776601683795,
           3162.2776601683795,
           3162.2776601683795,
           3162.2776601683795,
           3162.2776601683795,
           3162.2776601683795,
           3162.2776601683795,
           3162.2776601683795,
           1021.69,
           1009.71,
           1008.07,
           1004.99,
           1020.21
          ],
          "sizemode": "area",
          "sizeref": 31.622776601683796,
          "symbol": "circle"
         },
         "mode": "markers",
         "name": "running",
         "orientation": "v",
         "showlegend": true,
         "type": "scatter",
         "x": [
          3.617000102996826,
          3.5030000209808354,
          4.685999870300293,
          3.5769999027252197,
          3.4839999675750732,
          3.4579999446868896,
          3.4549999237060547,
          3.5179998874664307,
          3.5199999809265137,
          3.5179998874664307,
          3.569999933242798,
          3.558000087738037,
          3.5329999923706055,
          3.5,
          3.5380001068115234,
          3.5599999427795415,
          3.5260000228881836,
          4.2829999923706055,
          3.572000026702881,
          3.4800000190734863,
          3.430000066757202,
          3.546999931335449,
          3.434999942779541,
          3.4539999961853027,
          3.305999994277954,
          3.6019999980926514,
          3.4549999237060547,
          3.428999900817871,
          3.4760000705718994,
          4.205999851226807,
          3.4309999942779545,
          3.4649999141693115,
          3.315000057220459,
          3.5220000743865967,
          3.4879999160766606,
          4.408999919891357,
          4.051000118255615,
          4.354000091552734,
          4.26200008392334,
          4.360000133514404,
          4.456999778747559,
          4.074999809265137,
          3.5030000209808354,
          3.417000055313111,
          3.4240000247955327,
          3.4719998836517334,
          3.197999954223633,
          3.440000057220459,
          3.4000000953674316,
          3.444000005722046,
          3.4560000896453857,
          3.3959999084472656,
          4.0370001792907715,
          3.390000104904175,
          3.401999950408936,
          3.444000005722046,
          3.996999979019165,
          3.384000062942505,
          3.4079999923706055,
          3.359999895095825,
          4.23799991607666,
          4.361000061035156,
          4.314000129699707,
          4.3520002365112305,
          4.409999847412109
         ],
         "xaxis": "x",
         "y": [
          1.236300048828125,
          1.1970999755859375,
          1.558188989257812,
          1.2444000244140625,
          1.204300048828125,
          1.1893000488281251,
          1.192800048828125,
          1.188300048828125,
          1.2180999755859374,
          1.2305000000000001,
          1.2510000000000001,
          1.238800048828125,
          1.219800048828125,
          1.2069000244140624,
          1.2125,
          1.2269000244140624,
          1.223199951171875,
          1.4350999755859377,
          1.2125,
          1.2160999755859376,
          1.1870999755859375,
          1.225199951171875,
          1.202800048828125,
          1.2160000000000002,
          1.1554000244140625,
          1.237800048828125,
          1.190800048828125,
          1.195800048828125,
          1.18,
          1.3805999755859375,
          1.1575999755859376,
          1.208699951171875,
          1.166199951171875,
          1.2120999755859376,
          1.190300048828125,
          1.426199951171875,
          1.3610999755859376,
          1.4140000000000001,
          1.4290999755859375,
          1.4258000488281253,
          1.4530999755859375,
          1.3519000244140624,
          1.1914000244140626,
          1.183199951171875,
          1.1875999755859374,
          1.1914000244140626,
          1.123800048828125,
          1.1930999755859375,
          1.1948000488281252,
          1.1991999511718752,
          1.2084000244140625,
          1.1804000244140627,
          1.3680999755859375,
          1.201800048828125,
          1.1900999755859376,
          1.1785,
          1.344699951171875,
          1.193199951171875,
          1.1825999755859375,
          1.1644000244140624,
          1.413699951171875,
          1.4494000244140626,
          1.4205,
          1.4353000488281251,
          1.447
         ],
         "yaxis": "y"
        }
       ],
       "layout": {
        "height": 600,
        "legend": {
         "itemsizing": "constant",
         "title": {
          "text": "activity_type"
         },
         "tracegroupgap": 0
        },
        "shapes": [
         {
          "line": {
           "color": "gray",
           "dash": "dot"
          },
          "type": "line",
          "x0": 3.0242799663543707,
          "x1": 5.071440124511719,
          "y0": 1.099591820553759,
          "y1": 1.6537680799499836
         }
        ],
        "template": {
         "data": {
          "bar": [
           {
            "error_x": {
             "color": "#f2f5fa"
            },
            "error_y": {
             "color": "#f2f5fa"
            },
            "marker": {
             "line": {
              "color": "rgb(17,17,17)",
              "width": 0.5
             },
             "pattern": {
              "fillmode": "overlay",
              "size": 10,
              "solidity": 0.2
             }
            },
            "type": "bar"
           }
          ],
          "barpolar": [
           {
            "marker": {
             "line": {
              "color": "rgb(17,17,17)",
              "width": 0.5
             },
             "pattern": {
              "fillmode": "overlay",
              "size": 10,
              "solidity": 0.2
             }
            },
            "type": "barpolar"
           }
          ],
          "carpet": [
           {
            "aaxis": {
             "endlinecolor": "#A2B1C6",
             "gridcolor": "#506784",
             "linecolor": "#506784",
             "minorgridcolor": "#506784",
             "startlinecolor": "#A2B1C6"
            },
            "baxis": {
             "endlinecolor": "#A2B1C6",
             "gridcolor": "#506784",
             "linecolor": "#506784",
             "minorgridcolor": "#506784",
             "startlinecolor": "#A2B1C6"
            },
            "type": "carpet"
           }
          ],
          "choropleth": [
           {
            "colorbar": {
             "outlinewidth": 0,
             "ticks": ""
            },
            "type": "choropleth"
           }
          ],
          "contour": [
           {
            "colorbar": {
             "outlinewidth": 0,
             "ticks": ""
            },
            "colorscale": [
             [
              0,
              "#0d0887"
             ],
             [
              0.1111111111111111,
              "#46039f"
             ],
             [
              0.2222222222222222,
              "#7201a8"
             ],
             [
              0.3333333333333333,
              "#9c179e"
             ],
             [
              0.4444444444444444,
              "#bd3786"
             ],
             [
              0.5555555555555556,
              "#d8576b"
             ],
             [
              0.6666666666666666,
              "#ed7953"
             ],
             [
              0.7777777777777778,
              "#fb9f3a"
             ],
             [
              0.8888888888888888,
              "#fdca26"
             ],
             [
              1,
              "#f0f921"
             ]
            ],
            "type": "contour"
           }
          ],
          "contourcarpet": [
           {
            "colorbar": {
             "outlinewidth": 0,
             "ticks": ""
            },
            "type": "contourcarpet"
           }
          ],
          "heatmap": [
           {
            "colorbar": {
             "outlinewidth": 0,
             "ticks": ""
            },
            "colorscale": [
             [
              0,
              "#0d0887"
             ],
             [
              0.1111111111111111,
              "#46039f"
             ],
             [
              0.2222222222222222,
              "#7201a8"
             ],
             [
              0.3333333333333333,
              "#9c179e"
             ],
             [
              0.4444444444444444,
              "#bd3786"
             ],
             [
              0.5555555555555556,
              "#d8576b"
             ],
             [
              0.6666666666666666,
              "#ed7953"
             ],
             [
              0.7777777777777778,
              "#fb9f3a"
             ],
             [
              0.8888888888888888,
              "#fdca26"
             ],
             [
              1,
              "#f0f921"
             ]
            ],
            "type": "heatmap"
           }
          ],
          "heatmapgl": [
           {
            "colorbar": {
             "outlinewidth": 0,
             "ticks": ""
            },
            "colorscale": [
             [
              0,
              "#0d0887"
             ],
             [
              0.1111111111111111,
              "#46039f"
             ],
             [
              0.2222222222222222,
              "#7201a8"
             ],
             [
              0.3333333333333333,
              "#9c179e"
             ],
             [
              0.4444444444444444,
              "#bd3786"
             ],
             [
              0.5555555555555556,
              "#d8576b"
             ],
             [
              0.6666666666666666,
              "#ed7953"
             ],
             [
              0.7777777777777778,
              "#fb9f3a"
             ],
             [
              0.8888888888888888,
              "#fdca26"
             ],
             [
              1,
              "#f0f921"
             ]
            ],
            "type": "heatmapgl"
           }
          ],
          "histogram": [
           {
            "marker": {
             "pattern": {
              "fillmode": "overlay",
              "size": 10,
              "solidity": 0.2
             }
            },
            "type": "histogram"
           }
          ],
          "histogram2d": [
           {
            "colorbar": {
             "outlinewidth": 0,
             "ticks": ""
            },
            "colorscale": [
             [
              0,
              "#0d0887"
             ],
             [
              0.1111111111111111,
              "#46039f"
             ],
             [
              0.2222222222222222,
              "#7201a8"
             ],
             [
              0.3333333333333333,
              "#9c179e"
             ],
             [
              0.4444444444444444,
              "#bd3786"
             ],
             [
              0.5555555555555556,
              "#d8576b"
             ],
             [
              0.6666666666666666,
              "#ed7953"
             ],
             [
              0.7777777777777778,
              "#fb9f3a"
             ],
             [
              0.8888888888888888,
              "#fdca26"
             ],
             [
              1,
              "#f0f921"
             ]
            ],
            "type": "histogram2d"
           }
          ],
          "histogram2dcontour": [
           {
            "colorbar": {
             "outlinewidth": 0,
             "ticks": ""
            },
            "colorscale": [
             [
              0,
              "#0d0887"
             ],
             [
              0.1111111111111111,
              "#46039f"
             ],
             [
              0.2222222222222222,
              "#7201a8"
             ],
             [
              0.3333333333333333,
              "#9c179e"
             ],
             [
              0.4444444444444444,
              "#bd3786"
             ],
             [
              0.5555555555555556,
              "#d8576b"
             ],
             [
              0.6666666666666666,
              "#ed7953"
             ],
             [
              0.7777777777777778,
              "#fb9f3a"
             ],
             [
              0.8888888888888888,
              "#fdca26"
             ],
             [
              1,
              "#f0f921"
             ]
            ],
            "type": "histogram2dcontour"
           }
          ],
          "mesh3d": [
           {
            "colorbar": {
             "outlinewidth": 0,
             "ticks": ""
            },
            "type": "mesh3d"
           }
          ],
          "parcoords": [
           {
            "line": {
             "colorbar": {
              "outlinewidth": 0,
              "ticks": ""
             }
            },
            "type": "parcoords"
           }
          ],
          "pie": [
           {
            "automargin": true,
            "type": "pie"
           }
          ],
          "scatter": [
           {
            "marker": {
             "line": {
              "color": "#283442"
             }
            },
            "type": "scatter"
           }
          ],
          "scatter3d": [
           {
            "line": {
             "colorbar": {
              "outlinewidth": 0,
              "ticks": ""
             }
            },
            "marker": {
             "colorbar": {
              "outlinewidth": 0,
              "ticks": ""
             }
            },
            "type": "scatter3d"
           }
          ],
          "scattercarpet": [
           {
            "marker": {
             "colorbar": {
              "outlinewidth": 0,
              "ticks": ""
             }
            },
            "type": "scattercarpet"
           }
          ],
          "scattergeo": [
           {
            "marker": {
             "colorbar": {
              "outlinewidth": 0,
              "ticks": ""
             }
            },
            "type": "scattergeo"
           }
          ],
          "scattergl": [
           {
            "marker": {
             "line": {
              "color": "#283442"
             }
            },
            "type": "scattergl"
           }
          ],
          "scattermapbox": [
           {
            "marker": {
             "colorbar": {
              "outlinewidth": 0,
              "ticks": ""
             }
            },
            "type": "scattermapbox"
           }
          ],
          "scatterpolar": [
           {
            "marker": {
             "colorbar": {
              "outlinewidth": 0,
              "ticks": ""
             }
            },
            "type": "scatterpolar"
           }
          ],
          "scatterpolargl": [
           {
            "marker": {
             "colorbar": {
              "outlinewidth": 0,
              "ticks": ""
             }
            },
            "type": "scatterpolargl"
           }
          ],
          "scatterternary": [
           {
            "marker": {
             "colorbar": {
              "outlinewidth": 0,
              "ticks": ""
             }
            },
            "type": "scatterternary"
           }
          ],
          "surface": [
           {
            "colorbar": {
             "outlinewidth": 0,
             "ticks": ""
            },
            "colorscale": [
             [
              0,
              "#0d0887"
             ],
             [
              0.1111111111111111,
              "#46039f"
             ],
             [
              0.2222222222222222,
              "#7201a8"
             ],
             [
              0.3333333333333333,
              "#9c179e"
             ],
             [
              0.4444444444444444,
              "#bd3786"
             ],
             [
              0.5555555555555556,
              "#d8576b"
             ],
             [
              0.6666666666666666,
              "#ed7953"
             ],
             [
              0.7777777777777778,
              "#fb9f3a"
             ],
             [
              0.8888888888888888,
              "#fdca26"
             ],
             [
              1,
              "#f0f921"
             ]
            ],
            "type": "surface"
           }
          ],
          "table": [
           {
            "cells": {
             "fill": {
              "color": "#506784"
             },
             "line": {
              "color": "rgb(17,17,17)"
             }
            },
            "header": {
             "fill": {
              "color": "#2a3f5f"
             },
             "line": {
              "color": "rgb(17,17,17)"
             }
            },
            "type": "table"
           }
          ]
         },
         "layout": {
          "annotationdefaults": {
           "arrowcolor": "#f2f5fa",
           "arrowhead": 0,
           "arrowwidth": 1
          },
          "autotypenumbers": "strict",
          "coloraxis": {
           "colorbar": {
            "outlinewidth": 0,
            "ticks": ""
           }
          },
          "colorscale": {
           "diverging": [
            [
             0,
             "#8e0152"
            ],
            [
             0.1,
             "#c51b7d"
            ],
            [
             0.2,
             "#de77ae"
            ],
            [
             0.3,
             "#f1b6da"
            ],
            [
             0.4,
             "#fde0ef"
            ],
            [
             0.5,
             "#f7f7f7"
            ],
            [
             0.6,
             "#e6f5d0"
            ],
            [
             0.7,
             "#b8e186"
            ],
            [
             0.8,
             "#7fbc41"
            ],
            [
             0.9,
             "#4d9221"
            ],
            [
             1,
             "#276419"
            ]
           ],
           "sequential": [
            [
             0,
             "#0d0887"
            ],
            [
             0.1111111111111111,
             "#46039f"
            ],
            [
             0.2222222222222222,
             "#7201a8"
            ],
            [
             0.3333333333333333,
             "#9c179e"
            ],
            [
             0.4444444444444444,
             "#bd3786"
            ],
            [
             0.5555555555555556,
             "#d8576b"
            ],
            [
             0.6666666666666666,
             "#ed7953"
            ],
            [
             0.7777777777777778,
             "#fb9f3a"
            ],
            [
             0.8888888888888888,
             "#fdca26"
            ],
            [
             1,
             "#f0f921"
            ]
           ],
           "sequentialminus": [
            [
             0,
             "#0d0887"
            ],
            [
             0.1111111111111111,
             "#46039f"
            ],
            [
             0.2222222222222222,
             "#7201a8"
            ],
            [
             0.3333333333333333,
             "#9c179e"
            ],
            [
             0.4444444444444444,
             "#bd3786"
            ],
            [
             0.5555555555555556,
             "#d8576b"
            ],
            [
             0.6666666666666666,
             "#ed7953"
            ],
            [
             0.7777777777777778,
             "#fb9f3a"
            ],
            [
             0.8888888888888888,
             "#fdca26"
            ],
            [
             1,
             "#f0f921"
            ]
           ]
          },
          "colorway": [
           "#636efa",
           "#EF553B",
           "#00cc96",
           "#ab63fa",
           "#FFA15A",
           "#19d3f3",
           "#FF6692",
           "#B6E880",
           "#FF97FF",
           "#FECB52"
          ],
          "font": {
           "color": "#f2f5fa"
          },
          "geo": {
           "bgcolor": "rgb(17,17,17)",
           "lakecolor": "rgb(17,17,17)",
           "landcolor": "rgb(17,17,17)",
           "showlakes": true,
           "showland": true,
           "subunitcolor": "#506784"
          },
          "hoverlabel": {
           "align": "left"
          },
          "hovermode": "closest",
          "mapbox": {
           "style": "dark"
          },
          "paper_bgcolor": "rgb(17,17,17)",
          "plot_bgcolor": "rgb(17,17,17)",
          "polar": {
           "angularaxis": {
            "gridcolor": "#506784",
            "linecolor": "#506784",
            "ticks": ""
           },
           "bgcolor": "rgb(17,17,17)",
           "radialaxis": {
            "gridcolor": "#506784",
            "linecolor": "#506784",
            "ticks": ""
           }
          },
          "scene": {
           "xaxis": {
            "backgroundcolor": "rgb(17,17,17)",
            "gridcolor": "#506784",
            "gridwidth": 2,
            "linecolor": "#506784",
            "showbackground": true,
            "ticks": "",
            "zerolinecolor": "#C8D4E3"
           },
           "yaxis": {
            "backgroundcolor": "rgb(17,17,17)",
            "gridcolor": "#506784",
            "gridwidth": 2,
            "linecolor": "#506784",
            "showbackground": true,
            "ticks": "",
            "zerolinecolor": "#C8D4E3"
           },
           "zaxis": {
            "backgroundcolor": "rgb(17,17,17)",
            "gridcolor": "#506784",
            "gridwidth": 2,
            "linecolor": "#506784",
            "showbackground": true,
            "ticks": "",
            "zerolinecolor": "#C8D4E3"
           }
          },
          "shapedefaults": {
           "line": {
            "color": "#f2f5fa"
           }
          },
          "sliderdefaults": {
           "bgcolor": "#C8D4E3",
           "bordercolor": "rgb(17,17,17)",
           "borderwidth": 1,
           "tickwidth": 0
          },
          "ternary": {
           "aaxis": {
            "gridcolor": "#506784",
            "linecolor": "#506784",
            "ticks": ""
           },
           "baxis": {
            "gridcolor": "#506784",
            "linecolor": "#506784",
            "ticks": ""
           },
           "bgcolor": "rgb(17,17,17)",
           "caxis": {
            "gridcolor": "#506784",
            "linecolor": "#506784",
            "ticks": ""
           }
          },
          "title": {
           "x": 0.05
          },
          "updatemenudefaults": {
           "bgcolor": "#506784",
           "borderwidth": 0
          },
          "xaxis": {
           "automargin": true,
           "gridcolor": "#283442",
           "linecolor": "#506784",
           "ticks": "",
           "title": {
            "standoff": 15
           },
           "zerolinecolor": "#283442",
           "zerolinewidth": 2
          },
          "yaxis": {
           "automargin": true,
           "gridcolor": "#283442",
           "linecolor": "#506784",
           "ticks": "",
           "title": {
            "standoff": 15
           },
           "zerolinecolor": "#283442",
           "zerolinewidth": 2
          }
         }
        },
        "title": {
         "text": "Stride length vs speed",
         "x": 0.5
        },
        "width": 800,
        "xaxis": {
         "anchor": "y",
         "autorange": true,
         "domain": [
          0,
          1
         ],
         "range": [
          2.9657798148443977,
          5.0891918961053
         ],
         "title": {
          "text": "speed (m/s)"
         },
         "type": "linear"
        },
        "yaxis": {
         "anchor": "x",
         "autorange": true,
         "domain": [
          0,
          1
         ],
         "range": [
          1.0845298170216235,
          1.655126643823321
         ],
         "title": {
          "text": "stride length (m)"
         },
         "type": "linear"
        }
       }
      },
      "image/png": "[encoded data removed]",
      "text/html": [
       "<div>                            <div id=\"1bec95c9-5826-4bfd-b8c5-bc06b06abb5b\" class=\"plotly-graph-div\" style=\"height:600px; width:800px;\"></div>            <script type=\"text/javascript\">                require([\"plotly\"], function(Plotly) {                    window.PLOTLYENV=window.PLOTLYENV || {};                                    if (document.getElementById(\"1bec95c9-5826-4bfd-b8c5-bc06b06abb5b\")) {                    Plotly.newPlot(                        \"1bec95c9-5826-4bfd-b8c5-bc06b06abb5b\",                        [{\"customdata\":[[\"2022-11-25T10:10:19+00:00\",\"4'33\\\"\",4430.0],[\"2022-11-25T09:16:08+00:00\",\"4'35\\\"\",4460.0],[\"2022-11-15T16:44:09+00:00\",\"4'39\\\"\",3230.0],[\"2022-11-15T16:44:09+00:00\",\"3'58\\\"\",510.0],[\"2022-11-15T16:44:09+00:00\",\"4'28\\\"\",450.0],[\"2022-11-09T17:49:31+00:00\",\"4'5\\\"\",490.0],[\"2022-11-09T17:49:31+00:00\",\"3'31\\\"\",500.0],[\"2022-11-09T17:49:31+00:00\",\"4'3\\\"\",500.0],[\"2022-11-09T17:49:31+00:00\",\"3'29\\\"\",500.0],[\"2022-11-09T17:49:31+00:00\",\"4'5\\\"\",490.0],[\"2022-11-09T17:49:31+00:00\",\"3'32\\\"\",500.0],[\"2022-11-09T17:49:31+00:00\",\"3'57\\\"\",510.0],[\"2022-11-09T17:49:31+00:00\",\"3'32\\\"\",500.0],[\"2022-11-09T17:49:31+00:00\",\"4'5\\\"\",490.0],[\"2022-11-09T17:49:31+00:00\",\"3'29\\\"\",500.0],[\"2022-11-09T17:49:31+00:00\",\"4'3\\\"\",500.0],[\"2022-11-09T17:49:31+00:00\",\"3'31\\\"\",500.0],[\"2022-11-09T17:49:31+00:00\",\"4'3\\\"\",490.0],[\"2022-11-09T17:49:31+00:00\",\"3'28\\\"\",510.0],[\"2022-11-09T17:49:31+00:00\",\"3'59\\\"\",500.0],[\"2022-11-09T17:49:31+00:00\",\"3'34\\\"\",500.0],[\"2022-11-09T17:49:31+00:00\",\"4'5\\\"\",490.0],[\"2022-11-09T17:49:31+00:00\",\"3'31\\\"\",500.0],[\"2022-11-09T17:49:31+00:00\",\"3'58\\\"\",510.0],[\"2022-11-09T17:49:31+00:00\",\"3'33\\\"\",500.0],[\"2022-11-09T17:49:31+00:00\",\"4'1\\\"\",500.0],[\"2022-11-09T17:49:31+00:00\",\"3'31\\\"\",500.0],[\"2022-11-09T17:49:31+00:00\",\"4'2\\\"\",500.0],[\"2022-11-09T17:49:31+00:00\",\"3'30\\\"\",500.0],[\"2022-11-09T17:20:09+00:00\",\"4'39\\\"\",3570.0],[\"2022-11-03T17:59:49+00:00\",\"3'40\\\"\",2730.0],[\"2022-11-03T17:59:49+00:00\",\"5'26\\\"\",740.0],[\"2022-11-03T17:59:49+00:00\",\"3'40\\\"\",2730.0],[\"2022-11-03T17:59:49+00:00\",\"5'18\\\"\",750.0],[\"2022-11-03T17:59:49+00:00\",\"3'38\\\"\",2750.0],[\"2022-11-03T17:33:26+00:00\",\"4'33\\\"\",3570.0],[\"2022-10-19T16:49:50+00:00\",\"4'13\\\"\",500.0],[\"2022-10-19T16:49:50+00:00\",\"3'38\\\"\",500.0],[\"2022-10-19T16:49:50+00:00\",\"4'13\\\"\",490.0],[\"2022-10-19T16:49:50+00:00\",\"3'41\\\"\",500.0],[\"2022-10-19T16:49:50+00:00\",\"4'9\\\"\",500.0],[\"2022-10-19T16:49:50+00:00\",\"3'43\\\"\",500.0],[\"2022-10-19T16:49:50+00:00\",\"4'6\\\"\",500.0],[\"2022-10-19T16:49:50+00:00\",\"3'40\\\"\",500.0],[\"2022-10-19T16:49:50+00:00\",\"4'7\\\"\",500.0],[\"2022-10-19T16:49:50+00:00\",\"3'35\\\"\",500.0],[\"2022-10-19T16:49:50+00:00\",\"4'5\\\"\",500.0],[\"2022-10-19T16:49:50+00:00\",\"3'34\\\"\",510.0],[\"2022-10-19T16:49:50+00:00\",\"4'8\\\"\",500.0],[\"2022-10-19T16:49:50+00:00\",\"3'37\\\"\",500.0],[\"2022-10-19T16:49:50+00:00\",\"4'8\\\"\",500.0],[\"2022-10-19T16:49:50+00:00\",\"3'41\\\"\",500.0],[\"2022-10-19T16:49:50+00:00\",\"4'6\\\"\",500.0],[\"2022-10-19T16:49:50+00:00\",\"3'39\\\"\",500.0],[\"2022-10-19T16:49:50+00:00\",\"4'4\\\"\",500.0],[\"2022-10-19T16:49:50+00:00\",\"3'34\\\"\",500.0],[\"2022-10-19T16:49:50+00:00\",\"4'7\\\"\",500.0],[\"2022-10-19T16:49:50+00:00\",\"3'30\\\"\",510.0],[\"2022-10-19T16:24:04+00:00\",\"4'46\\\"\",3200.0],[\"2022-10-13T16:44:29+00:00\",\"3'53\\\"\",2580.0],[\"2022-10-13T16:44:29+00:00\",\"5'20\\\"\",730.0],[\"2022-10-13T16:44:29+00:00\",\"3'48\\\"\",2630.0],[\"2022-10-13T16:44:29+00:00\",\"5'18\\\"\",770.0],[\"2022-10-13T16:44:29+00:00\",\"3'51\\\"\",2600.0],[\"2022-10-13T16:20:28+00:00\",\"4'44\\\"\",3190.0],[\"2022-09-23T09:41:39+00:00\",\"3'41\\\"\",1000.0],[\"2022-09-23T09:41:39+00:00\",\"4'52\\\"\",420.0],[\"2022-09-23T09:41:39+00:00\",\"3'41\\\"\",1000.0],[\"2022-09-23T09:41:39+00:00\",\"3'39\\\"\",1000.0],[\"2022-09-23T09:41:39+00:00\",\"3'40\\\"\",1000.0],[\"2022-09-23T09:41:39+00:00\",\"3'24\\\"\",400.0],[\"2022-09-23T09:41:39+00:00\",\"3'22\\\"\",400.0],[\"2022-09-23T09:41:39+00:00\",\"3'26\\\"\",400.0],[\"2022-09-23T09:41:39+00:00\",\"3'25\\\"\",400.0],[\"2022-09-23T09:09:03+00:00\",\"4'47\\\"\",3140.0],[\"2022-09-23T09:09:03+00:00\",\"3'57\\\"\",510.0],[\"2022-09-23T09:09:03+00:00\",\"4'47\\\"\",420.0]],\"hovertemplate\":\"activity_type=track_running<br>speed (m/s)=%{x}<br>stride length (m)=%{y}<br>size=%{marker.size}<br>activity_start=%{customdata[0]}<br>pace=%{customdata[1]}<br>lap_distance=%{customdata[2]}<extra></extra>\",\"legendgroup\":\"track_running\",\"marker\":{\"color\":\"#636efa\",\"size\":[3162.2776601683795,3162.2776601683795,3162.2776601683795,510.0,450.0,490.0,500.0,500.0,500.0,490.0,500.0,510.0,500.0,490.0,500.0,500.0,500.0,490.0,510.0,500.0,500.0,490.0,500.0,510.0,500.0,500.0,500.0,500.0,500.0,3162.2776601683795,2730.0,740.0,2730.0,750.0,2750.0,3162.2776601683795,500.0,500.0,490.0,500.0,500.0,500.0,500.0,500.0,500.0,500.0,500.0,510.0,500.0,500.0,500.0,500.0,500.0,500.0,500.0,500.0,500.0,510.0,3162.2776601683795,2580.0,730.0,2630.0,770.0,2600.0,3162.2776601683795,1000.0,420.0,1000.0,1000.0,1000.0,400.0,400.0,400.0,400.0,3140.0,510.0,420.0],\"sizemode\":\"area\",\"sizeref\":31.622776601683796,\"symbol\":\"circle\"},\"mode\":\"markers\",\"name\":\"track_running\",\"orientation\":\"v\",\"showlegend\":true,\"x\":[3.6649999618530273,3.634000062942505,3.5769999027252197,4.171000003814697,3.7090001106262207,4.074999809265137,4.747000217437744,4.119999885559082,4.808000087738037,4.107999801635742,4.697000026702881,4.195000171661377,4.7170000076293945,4.118000030517578,4.808000087738037,4.14900016784668,4.718999862670898,4.130000114440918,4.775000095367432,4.176000118255615,4.688000202178955,4.123000144958496,4.74399995803833,4.169000148773193,4.6539998054504395,4.1539998054504395,4.728000164031982,4.176000118255615,4.789999961853027,3.5840001106262207,4.5329999923706055,3.085999965667725,4.543000221252441,3.138000011444092,4.578999996185303,3.6579999923706055,3.9159998893737793,4.624000072479248,3.9779999256134033,4.557000160217285,3.9820001125335693,4.5229997634887695,4.047999858856201,4.554999828338623,4.0320000648498535,4.658999919891357,4.054999828338623,4.631999969482422,3.9979999065399174,4.607999801635742,4.026000022888184,4.539999961853027,4.057000160217285,4.576000213623047,4.089000225067139,4.697000026702881,4.033999919891357,4.730000019073486,3.497999906539917,4.2829999923706055,3.1059999465942383,4.38100004196167,3.122999906539917,4.321000099182129,3.5209999084472656,4.5279998779296875,3.4049999713897705,4.538000106811523,4.574999809265137,4.559000015258789,4.896999835968018,4.9720001220703125,4.888000011444092,4.881999969482422,3.490999937057495,4.202000141143799,3.4639999866485596],\"xaxis\":\"x\",\"y\":[1.275194845996811,1.2619601221172767,1.266699951171875,1.3990999755859375,1.318699951171875,1.4168000488281252,1.595300048828125,1.4459000244140625,1.552699951171875,1.4694000244140626,1.5915999755859378,1.4609000244140626,1.5719000244140624,1.465199951171875,1.570699951171875,1.4556999511718751,1.589199951171875,1.4675,1.5694000244140625,1.4625,1.5524000244140626,1.4645999755859376,1.5745999755859375,1.443699951171875,1.5580999755859375,1.4574000244140626,1.5618000488281252,1.454699951171875,1.5698000488281252,1.2635999755859375,1.5505000000000002,1.148199951171875,1.544,1.1805999755859375,1.5495999755859375,1.3005999755859374,1.3585999755859377,1.5255,1.4181999511718753,1.5239000244140626,1.4095000000000002,1.5145999755859376,1.416,1.520699951171875,1.419,1.5495,1.4296999511718749,1.524,1.403699951171875,1.520699951171875,1.4170999755859375,1.506699951171875,1.4168000488281252,1.501300048828125,1.4283000488281252,1.541300048828125,1.4149000244140626,1.5390000000000001,1.256699951171875,1.460199951171875,1.175699951171875,1.475800048828125,1.1546999511718752,1.4604000244140625,1.2670000000000001,1.4950999755859378,1.182300048828125,1.4725,1.505300048828125,1.497199951171875,1.4920000000000002,1.5470000000000002,1.5430000000000001,1.5435000000000003,1.254800048828125,1.432699951171875,1.2904000244140625],\"yaxis\":\"y\",\"type\":\"scatter\"},{\"customdata\":[[\"2022-11-23T11:08:50+00:00\",\"4'36\\\"\",11030.63],[\"2022-11-22T06:52:17+00:00\",\"4'45\\\"\",8817.35],[\"2022-11-20T08:31:09+00:00\",\"3'33\\\"\",10053.58],[\"2022-11-20T07:51:50+00:00\",\"4'40\\\"\",3224.15],[\"2022-11-18T06:54:05+00:00\",\"4'47\\\"\",10473.29],[\"2022-11-16T15:02:03+00:00\",\"4'49\\\"\",12557.52],[\"2022-11-15T18:02:27+00:00\",\"4'49\\\"\",1128.3],[\"2022-11-13T06:37:29+00:00\",\"4'44\\\"\",11307.02],[\"2022-11-12T10:49:54+00:00\",\"4'44\\\"\",20412.87],[\"2022-11-11T12:15:10+00:00\",\"4'44\\\"\",11653.93],[\"2022-11-08T12:16:10+00:00\",\"4'40\\\"\",11800.61],[\"2022-11-06T13:47:45+00:00\",\"4'41\\\"\",20209.08],[\"2022-11-05T14:10:54+00:00\",\"4'43\\\"\",12134.55],[\"2022-11-02T11:37:02+00:00\",\"4'46\\\"\",11034.13],[\"2022-11-01T06:50:25+00:00\",\"4'43\\\"\",12935.66],[\"2022-10-30T08:20:48+00:00\",\"4'41\\\"\",18281.47],[\"2022-10-28T11:15:50+00:00\",\"4'44\\\"\",11519.0],[\"2022-10-26T16:36:46+00:00\",\"3'53\\\"\",12121.47],[\"2022-10-26T16:10:08+00:00\",\"4'40\\\"\",3489.53],[\"2022-10-25T11:14:12+00:00\",\"4'47\\\"\",11914.82],[\"2022-10-23T05:31:39+00:00\",\"4'52\\\"\",10518.69],[\"2022-10-22T08:21:19+00:00\",\"4'42\\\"\",20220.54],[\"2022-10-21T11:16:17+00:00\",\"4'51\\\"\",10841.51],[\"2022-10-18T11:15:16+00:00\",\"4'50\\\"\",11615.28],[\"2022-10-16T06:53:06+00:00\",\"5'2\\\"\",6207.59],[\"2022-10-16T06:53:06+00:00\",\"4'38\\\"\",12133.9],[\"2022-10-15T10:46:22+00:00\",\"4'49\\\"\",10622.51],[\"2022-10-12T11:17:11+00:00\",\"4'52\\\"\",10911.58],[\"2022-10-09T07:43:03+00:00\",\"4'48\\\"\",18194.99],[\"2022-10-07T04:29:01+00:00\",\"3'58\\\"\",11065.0],[\"2022-10-07T04:02:35+00:00\",\"4'51\\\"\",3111.67],[\"2022-10-05T11:15:22+00:00\",\"4'49\\\"\",11558.78],[\"2022-10-03T11:20:41+00:00\",\"5'2\\\"\",9417.29],[\"2022-10-02T09:29:57+00:00\",\"4'44\\\"\",20443.58],[\"2022-10-01T07:48:51+00:00\",\"4'47\\\"\",10504.56],[\"2022-09-29T16:44:51+00:00\",\"3'47\\\"\",1006.05],[\"2022-09-29T16:44:51+00:00\",\"4'7\\\"\",1005.81],[\"2022-09-29T16:44:51+00:00\",\"3'50\\\"\",1017.34],[\"2022-09-29T16:44:51+00:00\",\"3'55\\\"\",1097.67],[\"2022-09-29T16:44:51+00:00\",\"3'49\\\"\",1009.0],[\"2022-09-29T16:44:51+00:00\",\"3'44\\\"\",1011.98],[\"2022-09-29T16:44:51+00:00\",\"4'5\\\"\",1021.67],[\"2022-09-29T16:16:19+00:00\",\"4'45\\\"\",3481.77],[\"2022-09-28T11:16:03+00:00\",\"4'53\\\"\",11492.04],[\"2022-09-26T11:16:33+00:00\",\"4'52\\\"\",9780.64],[\"2022-09-25T07:51:28+00:00\",\"4'48\\\"\",18182.83],[\"2022-09-24T09:11:06+00:00\",\"5'13\\\"\",9632.92],[\"2022-09-21T11:15:54+00:00\",\"4'51\\\"\",9407.74],[\"2022-09-20T11:15:45+00:00\",\"4'54\\\"\",11266.36],[\"2022-09-18T07:48:39+00:00\",\"4'50\\\"\",18084.97],[\"2022-09-17T10:44:11+00:00\",\"4'49\\\"\",10627.73],[\"2022-09-15T16:08:12+00:00\",\"4'54\\\"\",4382.66],[\"2022-09-15T16:08:12+00:00\",\"4'8\\\"\",9026.93],[\"2022-09-14T11:18:09+00:00\",\"4'55\\\"\",10635.72],[\"2022-09-11T07:13:44+00:00\",\"4'54\\\"\",17045.02],[\"2022-09-09T08:15:30+00:00\",\"4'50\\\"\",4460.07],[\"2022-09-09T08:15:30+00:00\",\"4'10\\\"\",7073.08],[\"2022-09-07T17:07:30+00:00\",\"4'55\\\"\",10178.18],[\"2022-09-06T07:30:25+00:00\",\"4'53\\\"\",12391.57],[\"2022-09-02T16:29:52+00:00\",\"4'58\\\"\",4064.36],[\"2022-09-02T16:29:52+00:00\",\"3'56\\\"\",1021.69],[\"2022-09-02T16:29:52+00:00\",\"3'49\\\"\",1009.71],[\"2022-09-02T16:29:52+00:00\",\"3'52\\\"\",1008.07],[\"2022-09-02T16:29:52+00:00\",\"3'50\\\"\",1004.99],[\"2022-09-02T16:29:52+00:00\",\"3'47\\\"\",1020.21]],\"hovertemplate\":\"activity_type=running<br>speed (m/s)=%{x}<br>stride length (m)=%{y}<br>size=%{marker.size}<br>activity_start=%{customdata[0]}<br>pace=%{customdata[1]}<br>lap_distance=%{customdata[2]}<extra></extra>\",\"legendgroup\":\"running\",\"marker\":{\"color\":\"#EF553B\",\"size\":[3162.2776601683795,3162.2776601683795,3162.2776601683795,3162.2776601683795,3162.2776601683795,3162.2776601683795,1128.3,3162.2776601683795,3162.2776601683795,3162.2776601683795,3162.2776601683795,3162.2776601683795,3162.2776601683795,3162.2776601683795,3162.2776601683795,3162.2776601683795,3162.2776601683795,3162.2776601683795,3162.2776601683795,3162.2776601683795,3162.2776601683795,3162.2776601683795,3162.2776601683795,3162.2776601683795,3162.2776601683795,3162.2776601683795,3162.2776601683795,3162.2776601683795,3162.2776601683795,3162.2776601683795,3111.67,3162.2776601683795,3162.2776601683795,3162.2776601683795,3162.2776601683795,1006.05,1005.81,1017.34,1097.67,1009.0,1011.98,1021.67,3162.2776601683795,3162.2776601683795,3162.2776601683795,3162.2776601683795,3162.2776601683795,3162.2776601683795,3162.2776601683795,3162.2776601683795,3162.2776601683795,3162.2776601683795,3162.2776601683795,3162.2776601683795,3162.2776601683795,3162.2776601683795,3162.2776601683795,3162.2776601683795,3162.2776601683795,3162.2776601683795,1021.69,1009.71,1008.07,1004.99,1020.21],\"sizemode\":\"area\",\"sizeref\":31.622776601683796,\"symbol\":\"circle\"},\"mode\":\"markers\",\"name\":\"running\",\"orientation\":\"v\",\"showlegend\":true,\"x\":[3.617000102996826,3.5030000209808354,4.685999870300293,3.5769999027252197,3.4839999675750732,3.4579999446868896,3.4549999237060547,3.5179998874664307,3.5199999809265137,3.5179998874664307,3.569999933242798,3.558000087738037,3.5329999923706055,3.5,3.5380001068115234,3.5599999427795415,3.5260000228881836,4.2829999923706055,3.572000026702881,3.4800000190734863,3.430000066757202,3.546999931335449,3.434999942779541,3.4539999961853027,3.305999994277954,3.6019999980926514,3.4549999237060547,3.428999900817871,3.4760000705718994,4.205999851226807,3.4309999942779545,3.4649999141693115,3.315000057220459,3.5220000743865967,3.4879999160766606,4.408999919891357,4.051000118255615,4.354000091552734,4.26200008392334,4.360000133514404,4.456999778747559,4.074999809265137,3.5030000209808354,3.417000055313111,3.4240000247955327,3.4719998836517334,3.197999954223633,3.440000057220459,3.4000000953674316,3.444000005722046,3.4560000896453857,3.3959999084472656,4.0370001792907715,3.390000104904175,3.401999950408936,3.444000005722046,3.996999979019165,3.384000062942505,3.4079999923706055,3.359999895095825,4.23799991607666,4.361000061035156,4.314000129699707,4.3520002365112305,4.409999847412109],\"xaxis\":\"x\",\"y\":[1.236300048828125,1.1970999755859375,1.558188989257812,1.2444000244140625,1.204300048828125,1.1893000488281251,1.192800048828125,1.188300048828125,1.2180999755859374,1.2305000000000001,1.2510000000000001,1.238800048828125,1.219800048828125,1.2069000244140624,1.2125,1.2269000244140624,1.223199951171875,1.4350999755859377,1.2125,1.2160999755859376,1.1870999755859375,1.225199951171875,1.202800048828125,1.2160000000000002,1.1554000244140625,1.237800048828125,1.190800048828125,1.195800048828125,1.18,1.3805999755859375,1.1575999755859376,1.208699951171875,1.166199951171875,1.2120999755859376,1.190300048828125,1.426199951171875,1.3610999755859376,1.4140000000000001,1.4290999755859375,1.4258000488281253,1.4530999755859375,1.3519000244140624,1.1914000244140626,1.183199951171875,1.1875999755859374,1.1914000244140626,1.123800048828125,1.1930999755859375,1.1948000488281252,1.1991999511718752,1.2084000244140625,1.1804000244140627,1.3680999755859375,1.201800048828125,1.1900999755859376,1.1785,1.344699951171875,1.193199951171875,1.1825999755859375,1.1644000244140624,1.413699951171875,1.4494000244140626,1.4205,1.4353000488281251,1.447],\"yaxis\":\"y\",\"type\":\"scatter\"}],                        {\"template\":{\"data\":{\"barpolar\":[{\"marker\":{\"line\":{\"color\":\"rgb(17,17,17)\",\"width\":0.5},\"pattern\":{\"fillmode\":\"overlay\",\"size\":10,\"solidity\":0.2}},\"type\":\"barpolar\"}],\"bar\":[{\"error_x\":{\"color\":\"#f2f5fa\"},\"error_y\":{\"color\":\"#f2f5fa\"},\"marker\":{\"line\":{\"color\":\"rgb(17,17,17)\",\"width\":0.5},\"pattern\":{\"fillmode\":\"overlay\",\"size\":10,\"solidity\":0.2}},\"type\":\"bar\"}],\"carpet\":[{\"aaxis\":{\"endlinecolor\":\"#A2B1C6\",\"gridcolor\":\"#506784\",\"linecolor\":\"#506784\",\"minorgridcolor\":\"#506784\",\"startlinecolor\":\"#A2B1C6\"},\"baxis\":{\"endlinecolor\":\"#A2B1C6\",\"gridcolor\":\"#506784\",\"linecolor\":\"#506784\",\"minorgridcolor\":\"#506784\",\"startlinecolor\":\"#A2B1C6\"},\"type\":\"carpet\"}],\"choropleth\":[{\"colorbar\":{\"outlinewidth\":0,\"ticks\":\"\"},\"type\":\"choropleth\"}],\"contourcarpet\":[{\"colorbar\":{\"outlinewidth\":0,\"ticks\":\"\"},\"type\":\"contourcarpet\"}],\"contour\":[{\"colorbar\":{\"outlinewidth\":0,\"ticks\":\"\"},\"colorscale\":[[0.0,\"#0d0887\"],[0.1111111111111111,\"#46039f\"],[0.2222222222222222,\"#7201a8\"],[0.3333333333333333,\"#9c179e\"],[0.4444444444444444,\"#bd3786\"],[0.5555555555555556,\"#d8576b\"],[0.6666666666666666,\"#ed7953\"],[0.7777777777777778,\"#fb9f3a\"],[0.8888888888888888,\"#fdca26\"],[1.0,\"#f0f921\"]],\"type\":\"contour\"}],\"heatmapgl\":[{\"colorbar\":{\"outlinewidth\":0,\"ticks\":\"\"},\"colorscale\":[[0.0,\"#0d0887\"],[0.1111111111111111,\"#46039f\"],[0.2222222222222222,\"#7201a8\"],[0.3333333333333333,\"#9c179e\"],[0.4444444444444444,\"#bd3786\"],[0.5555555555555556,\"#d8576b\"],[0.6666666666666666,\"#ed7953\"],[0.7777777777777778,\"#fb9f3a\"],[0.8888888888888888,\"#fdca26\"],[1.0,\"#f0f921\"]],\"type\":\"heatmapgl\"}],\"heatmap\":[{\"colorbar\":{\"outlinewidth\":0,\"ticks\":\"\"},\"colorscale\":[[0.0,\"#0d0887\"],[0.1111111111111111,\"#46039f\"],[0.2222222222222222,\"#7201a8\"],[0.3333333333333333,\"#9c179e\"],[0.4444444444444444,\"#bd3786\"],[0.5555555555555556,\"#d8576b\"],[0.6666666666666666,\"#ed7953\"],[0.7777777777777778,\"#fb9f3a\"],[0.8888888888888888,\"#fdca26\"],[1.0,\"#f0f921\"]],\"type\":\"heatmap\"}],\"histogram2dcontour\":[{\"colorbar\":{\"outlinewidth\":0,\"ticks\":\"\"},\"colorscale\":[[0.0,\"#0d0887\"],[0.1111111111111111,\"#46039f\"],[0.2222222222222222,\"#7201a8\"],[0.3333333333333333,\"#9c179e\"],[0.4444444444444444,\"#bd3786\"],[0.5555555555555556,\"#d8576b\"],[0.6666666666666666,\"#ed7953\"],[0.7777777777777778,\"#fb9f3a\"],[0.8888888888888888,\"#fdca26\"],[1.0,\"#f0f921\"]],\"type\":\"histogram2dcontour\"}],\"histogram2d\":[{\"colorbar\":{\"outlinewidth\":0,\"ticks\":\"\"},\"colorscale\":[[0.0,\"#0d0887\"],[0.1111111111111111,\"#46039f\"],[0.2222222222222222,\"#7201a8\"],[0.3333333333333333,\"#9c179e\"],[0.4444444444444444,\"#bd3786\"],[0.5555555555555556,\"#d8576b\"],[0.6666666666666666,\"#ed7953\"],[0.7777777777777778,\"#fb9f3a\"],[0.8888888888888888,\"#fdca26\"],[1.0,\"#f0f921\"]],\"type\":\"histogram2d\"}],\"histogram\":[{\"marker\":{\"pattern\":{\"fillmode\":\"overlay\",\"size\":10,\"solidity\":0.2}},\"type\":\"histogram\"}],\"mesh3d\":[{\"colorbar\":{\"outlinewidth\":0,\"ticks\":\"\"},\"type\":\"mesh3d\"}],\"parcoords\":[{\"line\":{\"colorbar\":{\"outlinewidth\":0,\"ticks\":\"\"}},\"type\":\"parcoords\"}],\"pie\":[{\"automargin\":true,\"type\":\"pie\"}],\"scatter3d\":[{\"line\":{\"colorbar\":{\"outlinewidth\":0,\"ticks\":\"\"}},\"marker\":{\"colorbar\":{\"outlinewidth\":0,\"ticks\":\"\"}},\"type\":\"scatter3d\"}],\"scattercarpet\":[{\"marker\":{\"colorbar\":{\"outlinewidth\":0,\"ticks\":\"\"}},\"type\":\"scattercarpet\"}],\"scattergeo\":[{\"marker\":{\"colorbar\":{\"outlinewidth\":0,\"ticks\":\"\"}},\"type\":\"scattergeo\"}],\"scattergl\":[{\"marker\":{\"line\":{\"color\":\"#283442\"}},\"type\":\"scattergl\"}],\"scattermapbox\":[{\"marker\":{\"colorbar\":{\"outlinewidth\":0,\"ticks\":\"\"}},\"type\":\"scattermapbox\"}],\"scatterpolargl\":[{\"marker\":{\"colorbar\":{\"outlinewidth\":0,\"ticks\":\"\"}},\"type\":\"scatterpolargl\"}],\"scatterpolar\":[{\"marker\":{\"colorbar\":{\"outlinewidth\":0,\"ticks\":\"\"}},\"type\":\"scatterpolar\"}],\"scatter\":[{\"marker\":{\"line\":{\"color\":\"#283442\"}},\"type\":\"scatter\"}],\"scatterternary\":[{\"marker\":{\"colorbar\":{\"outlinewidth\":0,\"ticks\":\"\"}},\"type\":\"scatterternary\"}],\"surface\":[{\"colorbar\":{\"outlinewidth\":0,\"ticks\":\"\"},\"colorscale\":[[0.0,\"#0d0887\"],[0.1111111111111111,\"#46039f\"],[0.2222222222222222,\"#7201a8\"],[0.3333333333333333,\"#9c179e\"],[0.4444444444444444,\"#bd3786\"],[0.5555555555555556,\"#d8576b\"],[0.6666666666666666,\"#ed7953\"],[0.7777777777777778,\"#fb9f3a\"],[0.8888888888888888,\"#fdca26\"],[1.0,\"#f0f921\"]],\"type\":\"surface\"}],\"table\":[{\"cells\":{\"fill\":{\"color\":\"#506784\"},\"line\":{\"color\":\"rgb(17,17,17)\"}},\"header\":{\"fill\":{\"color\":\"#2a3f5f\"},\"line\":{\"color\":\"rgb(17,17,17)\"}},\"type\":\"table\"}]},\"layout\":{\"annotationdefaults\":{\"arrowcolor\":\"#f2f5fa\",\"arrowhead\":0,\"arrowwidth\":1},\"autotypenumbers\":\"strict\",\"coloraxis\":{\"colorbar\":{\"outlinewidth\":0,\"ticks\":\"\"}},\"colorscale\":{\"diverging\":[[0,\"#8e0152\"],[0.1,\"#c51b7d\"],[0.2,\"#de77ae\"],[0.3,\"#f1b6da\"],[0.4,\"#fde0ef\"],[0.5,\"#f7f7f7\"],[0.6,\"#e6f5d0\"],[0.7,\"#b8e186\"],[0.8,\"#7fbc41\"],[0.9,\"#4d9221\"],[1,\"#276419\"]],\"sequential\":[[0.0,\"#0d0887\"],[0.1111111111111111,\"#46039f\"],[0.2222222222222222,\"#7201a8\"],[0.3333333333333333,\"#9c179e\"],[0.4444444444444444,\"#bd3786\"],[0.5555555555555556,\"#d8576b\"],[0.6666666666666666,\"#ed7953\"],[0.7777777777777778,\"#fb9f3a\"],[0.8888888888888888,\"#fdca26\"],[1.0,\"#f0f921\"]],\"sequentialminus\":[[0.0,\"#0d0887\"],[0.1111111111111111,\"#46039f\"],[0.2222222222222222,\"#7201a8\"],[0.3333333333333333,\"#9c179e\"],[0.4444444444444444,\"#bd3786\"],[0.5555555555555556,\"#d8576b\"],[0.6666666666666666,\"#ed7953\"],[0.7777777777777778,\"#fb9f3a\"],[0.8888888888888888,\"#fdca26\"],[1.0,\"#f0f921\"]]},\"colorway\":[\"#636efa\",\"#EF553B\",\"#00cc96\",\"#ab63fa\",\"#FFA15A\",\"#19d3f3\",\"#FF6692\",\"#B6E880\",\"#FF97FF\",\"#FECB52\"],\"font\":{\"color\":\"#f2f5fa\"},\"geo\":{\"bgcolor\":\"rgb(17,17,17)\",\"lakecolor\":\"rgb(17,17,17)\",\"landcolor\":\"rgb(17,17,17)\",\"showlakes\":true,\"showland\":true,\"subunitcolor\":\"#506784\"},\"hoverlabel\":{\"align\":\"left\"},\"hovermode\":\"closest\",\"mapbox\":{\"style\":\"dark\"},\"paper_bgcolor\":\"rgb(17,17,17)\",\"plot_bgcolor\":\"rgb(17,17,17)\",\"polar\":{\"angularaxis\":{\"gridcolor\":\"#506784\",\"linecolor\":\"#506784\",\"ticks\":\"\"},\"bgcolor\":\"rgb(17,17,17)\",\"radialaxis\":{\"gridcolor\":\"#506784\",\"linecolor\":\"#506784\",\"ticks\":\"\"}},\"scene\":{\"xaxis\":{\"backgroundcolor\":\"rgb(17,17,17)\",\"gridcolor\":\"#506784\",\"gridwidth\":2,\"linecolor\":\"#506784\",\"showbackground\":true,\"ticks\":\"\",\"zerolinecolor\":\"#C8D4E3\"},\"yaxis\":{\"backgroundcolor\":\"rgb(17,17,17)\",\"gridcolor\":\"#506784\",\"gridwidth\":2,\"linecolor\":\"#506784\",\"showbackground\":true,\"ticks\":\"\",\"zerolinecolor\":\"#C8D4E3\"},\"zaxis\":{\"backgroundcolor\":\"rgb(17,17,17)\",\"gridcolor\":\"#506784\",\"gridwidth\":2,\"linecolor\":\"#506784\",\"showbackground\":true,\"ticks\":\"\",\"zerolinecolor\":\"#C8D4E3\"}},\"shapedefaults\":{\"line\":{\"color\":\"#f2f5fa\"}},\"sliderdefaults\":{\"bgcolor\":\"#C8D4E3\",\"bordercolor\":\"rgb(17,17,17)\",\"borderwidth\":1,\"tickwidth\":0},\"ternary\":{\"aaxis\":{\"gridcolor\":\"#506784\",\"linecolor\":\"#506784\",\"ticks\":\"\"},\"baxis\":{\"gridcolor\":\"#506784\",\"linecolor\":\"#506784\",\"ticks\":\"\"},\"bgcolor\":\"rgb(17,17,17)\",\"caxis\":{\"gridcolor\":\"#506784\",\"linecolor\":\"#506784\",\"ticks\":\"\"}},\"title\":{\"x\":0.05},\"updatemenudefaults\":{\"bgcolor\":\"#506784\",\"borderwidth\":0},\"xaxis\":{\"automargin\":true,\"gridcolor\":\"#283442\",\"linecolor\":\"#506784\",\"ticks\":\"\",\"title\":{\"standoff\":15},\"zerolinecolor\":\"#283442\",\"zerolinewidth\":2},\"yaxis\":{\"automargin\":true,\"gridcolor\":\"#283442\",\"linecolor\":\"#506784\",\"ticks\":\"\",\"title\":{\"standoff\":15},\"zerolinecolor\":\"#283442\",\"zerolinewidth\":2}}},\"xaxis\":{\"anchor\":\"y\",\"domain\":[0.0,1.0],\"title\":{\"text\":\"speed (m/s)\"}},\"yaxis\":{\"anchor\":\"x\",\"domain\":[0.0,1.0],\"title\":{\"text\":\"stride length (m)\"}},\"legend\":{\"title\":{\"text\":\"activity_type\"},\"tracegroupgap\":0,\"itemsizing\":\"constant\"},\"title\":{\"text\":\"Stride length vs speed\",\"x\":0.5},\"height\":600,\"width\":800,\"shapes\":[{\"line\":{\"color\":\"gray\",\"dash\":\"dot\"},\"type\":\"line\",\"x0\":3.0242799663543707,\"x1\":5.071440124511719,\"y0\":1.099591820553759,\"y1\":1.6537680799499836}]},                        {\"responsive\": true}                    ).then(function(){\n",
       "                            \n",
       "var gd = document.getElementById('1bec95c9-5826-4bfd-b8c5-bc06b06abb5b');\n",
       "var x = new MutationObserver(function (mutations, observer) {{\n",
       "        var display = window.getComputedStyle(gd).display;\n",
       "        if (!display || display === 'none') {{\n",
       "            console.log([gd, 'removed!']);\n",
       "            Plotly.purge(gd);\n",
       "            observer.disconnect();\n",
       "        }}\n",
       "}});\n",
       "\n",
       "// Listen for the removal of the full notebook cells\n",
       "var notebookContainer = gd.closest('#notebook-container');\n",
       "if (notebookContainer) {{\n",
       "    x.observe(notebookContainer, {childList: true});\n",
       "}}\n",
       "\n",
       "// Listen for the clearing of the current output cell\n",
       "var outputEl = gd.closest('.output');\n",
       "if (outputEl) {{\n",
       "    x.observe(outputEl, {childList: true});\n",
       "}}\n",
       "\n",
       "                        })                };                });            </script>        </div>"
      ]
     },
     "metadata": {},
     "output_type": "display_data"
    }
   ],
   "source": [
    "fig = px.scatter(clean_df,\n",
    "    x=\"speed\", \n",
    "    y=\"stride_length\", \n",
    "    title=\"Stride length vs speed\",\n",
    "    width=800,\n",
    "    height=600,\n",
    "    labels={'speed':'speed (m/s)','stride_length':'stride length (m)'},\n",
    "    hover_data=['activity_start','pace','lap_distance'],\n",
    "    size=clean_df['lap_distance'].clip(0,10**3.5),\n",
    "    size_max=10,\n",
    "    color='activity_type',\n",
    "    template='plotly_dark'\n",
    ")\n",
    "fig.update_layout(title_x=0.5)\n",
    "#fig.layout.update(xaxis2 = go.layout.XAxis(overlaying='x',side='top'))\n",
    "fig.add_shape(\n",
    "        type='line',\n",
    "        x0=clean_df.speed.min()*0.98,\n",
    "        y0=c0+c1*clean_df.speed.min()*0.98,\n",
    "        x1=clean_df.speed.max()*1.02,\n",
    "        y1=c0+c1*clean_df.speed.max()*1.02,\n",
    "        line=dict(\n",
    "            dash='dot', color='gray'\n",
    "        )\n",
    ")\n",
    "fig.show()"
   ]
  },
  {
   "cell_type": "code",
   "execution_count": 16,
   "id": "a6687767",
   "metadata": {},
   "outputs": [],
   "source": [
    "race_day=api.get_activities_by_date(date.isoformat(),date.isoformat(),\"running\")"
   ]
  },
  {
   "cell_type": "code",
   "execution_count": 34,
   "id": "5165018f-4e6e-462e-b448-2fa60729d912",
   "metadata": {},
   "outputs": [
    {
     "data": {
      "text/plain": [
       "{'activityId': 10007295763,\n",
       " 'activityName': 'Santarcangelo di Romagna Corsa',\n",
       " 'description': None,\n",
       " 'startTimeLocal': '2022-11-20 09:31:09',\n",
       " 'startTimeGMT': '2022-11-20 08:31:09',\n",
       " 'activityType': {'typeId': 1,\n",
       "  'typeKey': 'running',\n",
       "  'parentTypeId': 17,\n",
       "  'isHidden': False,\n",
       "  'sortOrder': None,\n",
       "  'restricted': False,\n",
       "  'trimmable': True},\n",
       " 'eventType': {'typeId': 9, 'typeKey': 'uncategorized', 'sortOrder': 10},\n",
       " 'comments': None,\n",
       " 'parentId': None,\n",
       " 'distance': 10053.580078125,\n",
       " 'duration': 2145.48291015625,\n",
       " 'elapsedDuration': 2145.48291015625,\n",
       " 'movingDuration': 2145.0,\n",
       " 'elevationGain': 28.059999998658895,\n",
       " 'elevationLoss': 31.87000000476837,\n",
       " 'averageSpeed': 4.685999870300293,\n",
       " 'maxSpeed': 6.102000236511231,\n",
       " 'startLatitude': 44.06300162896514,\n",
       " 'startLongitude': 12.44685203768313,\n",
       " 'hasPolyline': True,\n",
       " 'ownerId': 12663743,\n",
       " 'ownerDisplayName': 'lorenzo.menculini',\n",
       " 'ownerFullName': 'Lorenzo Menculini',\n",
       " 'ownerProfileImageUrlSmall': 'https://s3.amazonaws.com/garmin-connect-prod/profile_images/9fbcf080-fe63-4d60-bed2-aed42814ce81-12663743.jpg',\n",
       " 'ownerProfileImageUrlMedium': 'https://s3.amazonaws.com/garmin-connect-prod/profile_images/7b1c8717-cb50-4e8a-9dbd-45f987805db3-12663743.jpg',\n",
       " 'ownerProfileImageUrlLarge': 'https://s3.amazonaws.com/garmin-connect-prod/profile_images/af7761d3-6dbf-4851-bedd-7eabeff5db38-12663743.jpg',\n",
       " 'calories': 673.0,\n",
       " 'averageHR': 153.0,\n",
       " 'maxHR': 245.0,\n",
       " 'averageRunningCadenceInStepsPerMinute': 180.4375,\n",
       " 'maxRunningCadenceInStepsPerMinute': 236.0,\n",
       " 'averageBikingCadenceInRevPerMinute': None,\n",
       " 'maxBikingCadenceInRevPerMinute': None,\n",
       " 'averageSwimCadenceInStrokesPerMinute': None,\n",
       " 'maxSwimCadenceInStrokesPerMinute': None,\n",
       " 'averageSwolf': None,\n",
       " 'activeLengths': None,\n",
       " 'steps': 6458,\n",
       " 'conversationUuid': None,\n",
       " 'conversationPk': None,\n",
       " 'numberOfActivityLikes': None,\n",
       " 'numberOfActivityComments': None,\n",
       " 'likedByUser': None,\n",
       " 'commentedByUser': None,\n",
       " 'activityLikeDisplayNames': None,\n",
       " 'activityLikeFullNames': None,\n",
       " 'activityLikeProfileImageUrls': None,\n",
       " 'requestorRelationship': None,\n",
       " 'userRoles': ['ROLE_OUTDOOR_USER',\n",
       "  'ROLE_CONNECTUSER',\n",
       "  'ROLE_FITNESS_USER',\n",
       "  'ROLE_WELLNESS_USER',\n",
       "  'ROLE_CONNECT_2_USER'],\n",
       " 'privacy': {'typeId': 4, 'typeKey': 'groups'},\n",
       " 'userPro': False,\n",
       " 'courseId': None,\n",
       " 'poolLength': None,\n",
       " 'unitOfPoolLength': None,\n",
       " 'hasVideo': False,\n",
       " 'videoUrl': None,\n",
       " 'timeZoneId': 124,\n",
       " 'beginTimestamp': 1668933069000,\n",
       " 'sportTypeId': 1,\n",
       " 'avgPower': None,\n",
       " 'maxPower': None,\n",
       " 'aerobicTrainingEffect': 4.599999904632568,\n",
       " 'anaerobicTrainingEffect': 0.0,\n",
       " 'strokes': None,\n",
       " 'normPower': None,\n",
       " 'leftBalance': None,\n",
       " 'rightBalance': None,\n",
       " 'avgLeftBalance': None,\n",
       " 'max20MinPower': None,\n",
       " 'avgVerticalOscillation': None,\n",
       " 'avgGroundContactTime': None,\n",
       " 'avgStrideLength': 155.8188989257812,\n",
       " 'avgFractionalCadence': None,\n",
       " 'maxFractionalCadence': None,\n",
       " 'trainingStressScore': None,\n",
       " 'intensityFactor': None,\n",
       " 'vO2MaxValue': 61.0,\n",
       " 'avgVerticalRatio': None,\n",
       " 'avgGroundContactBalance': None,\n",
       " 'lactateThresholdBpm': None,\n",
       " 'lactateThresholdSpeed': None,\n",
       " 'maxFtp': None,\n",
       " 'avgStrokeDistance': None,\n",
       " 'avgStrokeCadence': None,\n",
       " 'maxStrokeCadence': None,\n",
       " 'workoutId': None,\n",
       " 'avgStrokes': None,\n",
       " 'minStrokes': None,\n",
       " 'deviceId': 3382948883,\n",
       " 'minTemperature': 17.0,\n",
       " 'maxTemperature': None,\n",
       " 'minElevation': 33.0,\n",
       " 'maxElevation': 43.79999923706055,\n",
       " 'avgDoubleCadence': None,\n",
       " 'maxDoubleCadence': 236.0,\n",
       " 'summarizedExerciseSets': None,\n",
       " 'maxDepth': None,\n",
       " 'avgDepth': None,\n",
       " 'surfaceInterval': None,\n",
       " 'startN2': None,\n",
       " 'endN2': None,\n",
       " 'startCns': None,\n",
       " 'endCns': None,\n",
       " 'summarizedDiveInfo': {'weight': None,\n",
       "  'weightUnit': None,\n",
       "  'visibility': None,\n",
       "  'visibilityUnit': None,\n",
       "  'surfaceCondition': None,\n",
       "  'current': None,\n",
       "  'waterType': None,\n",
       "  'waterDensity': None,\n",
       "  'summarizedDiveGases': [],\n",
       "  'totalSurfaceTime': None},\n",
       " 'activityLikeAuthors': None,\n",
       " 'avgVerticalSpeed': None,\n",
       " 'maxVerticalSpeed': 0.40000152587890625,\n",
       " 'floorsClimbed': None,\n",
       " 'floorsDescended': None,\n",
       " 'manufacturer': 'GARMIN',\n",
       " 'diveNumber': None,\n",
       " 'locationName': 'Santarcangelo di Romagna',\n",
       " 'bottomTime': None,\n",
       " 'lapCount': 1,\n",
       " 'endLatitude': 44.063603365793824,\n",
       " 'endLongitude': 12.446685740724206,\n",
       " 'minAirSpeed': None,\n",
       " 'maxAirSpeed': None,\n",
       " 'avgAirSpeed': None,\n",
       " 'avgWindYawAngle': None,\n",
       " 'minCda': None,\n",
       " 'maxCda': None,\n",
       " 'avgCda': None,\n",
       " 'avgWattsPerCda': None,\n",
       " 'flow': None,\n",
       " 'grit': None,\n",
       " 'jumpCount': None,\n",
       " 'caloriesEstimated': None,\n",
       " 'caloriesConsumed': None,\n",
       " 'waterEstimated': 388.0,\n",
       " 'waterConsumed': None,\n",
       " 'maxAvgPower_1': None,\n",
       " 'maxAvgPower_2': None,\n",
       " 'maxAvgPower_5': None,\n",
       " 'maxAvgPower_10': None,\n",
       " 'maxAvgPower_20': None,\n",
       " 'maxAvgPower_30': None,\n",
       " 'maxAvgPower_60': None,\n",
       " 'maxAvgPower_120': None,\n",
       " 'maxAvgPower_300': None,\n",
       " 'maxAvgPower_600': None,\n",
       " 'maxAvgPower_1200': None,\n",
       " 'maxAvgPower_1800': None,\n",
       " 'maxAvgPower_3600': None,\n",
       " 'maxAvgPower_7200': None,\n",
       " 'maxAvgPower_18000': None,\n",
       " 'excludeFromPowerCurveReports': None,\n",
       " 'totalSets': None,\n",
       " 'activeSets': None,\n",
       " 'totalReps': None,\n",
       " 'minRespirationRate': None,\n",
       " 'maxRespirationRate': None,\n",
       " 'avgRespirationRate': None,\n",
       " 'trainingEffectLabel': 'VO2MAX',\n",
       " 'activityTrainingLoad': 242.695556640625,\n",
       " 'avgFlow': None,\n",
       " 'avgGrit': None,\n",
       " 'minActivityLapDuration': 2145.48291015625,\n",
       " 'avgStress': None,\n",
       " 'startStress': None,\n",
       " 'endStress': None,\n",
       " 'differenceStress': None,\n",
       " 'maxStress': None,\n",
       " 'aerobicTrainingEffectMessage': 'HIGHLY_IMPROVING_VO2_MAX_16',\n",
       " 'anaerobicTrainingEffectMessage': 'NO_ANAEROBIC_BENEFIT_0',\n",
       " 'splitSummaries': [{'noOfSplits': 1,\n",
       "   'maxGradeValue': None,\n",
       "   'totalAscent': 0.0,\n",
       "   'duration': 7.0,\n",
       "   'splitType': 'RWD_STAND',\n",
       "   'numClimbSends': 0,\n",
       "   'maxElevationGain': 0.0,\n",
       "   'averageElevationGain': 0.0,\n",
       "   'maxDistance': 16,\n",
       "   'distance': 16.209999084472656,\n",
       "   'averageSpeed': 2.315999984741211,\n",
       "   'maxSpeed': 4.703000068664551,\n",
       "   'mode': None,\n",
       "   'numFalls': 0},\n",
       "  {'noOfSplits': 1,\n",
       "   'maxGradeValue': None,\n",
       "   'totalAscent': 28.059999998658895,\n",
       "   'duration': 2138.402099609375,\n",
       "   'splitType': 'RWD_RUN',\n",
       "   'numClimbSends': 0,\n",
       "   'maxElevationGain': 28.059999998658895,\n",
       "   'averageElevationGain': 28.059999998658895,\n",
       "   'maxDistance': 10031,\n",
       "   'distance': 10031.8701171875,\n",
       "   'averageSpeed': 4.690999984741211,\n",
       "   'maxSpeed': 6.1020002365112305,\n",
       "   'mode': None,\n",
       "   'numFalls': 0}],\n",
       " 'hasSplits': True,\n",
       " 'moderateIntensityMinutes': 1,\n",
       " 'vigorousIntensityMinutes': 33,\n",
       " 'maxBottomTime': None,\n",
       " 'hasSeedFirstbeatProfile': None,\n",
       " 'calendarEventId': None,\n",
       " 'calendarEventUuid': None,\n",
       " 'avgGradeAdjustedSpeed': None,\n",
       " 'avgWheelchairCadence': None,\n",
       " 'maxWheelchairCadence': None,\n",
       " 'purposeful': False,\n",
       " 'pr': False,\n",
       " 'manualActivity': False,\n",
       " 'autoCalcCalories': False,\n",
       " 'elevationCorrected': False,\n",
       " 'atpActivity': False,\n",
       " 'favorite': False,\n",
       " 'decoDive': False,\n",
       " 'parent': False}"
      ]
     },
     "execution_count": 34,
     "metadata": {},
     "output_type": "execute_result"
    }
   ],
   "source": [
    "race_day[0]"
   ]
  },
  {
   "cell_type": "code",
   "execution_count": null,
   "id": "99f71096-23c7-44bb-96d2-5afcb9e39b82",
   "metadata": {},
   "outputs": [],
   "source": []
  }
 ],
 "metadata": {
  "kernelspec": {
   "display_name": "Python 3 (ipykernel)",
   "language": "python",
   "name": "python3"
  },
  "language_info": {
   "codemirror_mode": {
    "name": "ipython",
    "version": 3
   },
   "file_extension": ".py",
   "mimetype": "text/x-python",
   "name": "python",
   "nbconvert_exporter": "python",
   "pygments_lexer": "ipython3",
   "version": "3.10.8"
  }
 },
 "nbformat": 4,
 "nbformat_minor": 5
}
